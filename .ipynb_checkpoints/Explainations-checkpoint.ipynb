{
 "cells": [
  {
   "cell_type": "code",
   "execution_count": 1,
   "id": "0f742851",
   "metadata": {},
   "outputs": [],
   "source": [
    "#Reference\n",
    "import numpy as np\n",
    "import scipy as sp\n",
    "from scipy.spatial import KDTree\n",
    "import warnings\n",
    "%matplotlib inline\n",
    "import matplotlib.pyplot as plt\n",
    "from IPython.core.debugger import set_trace\n",
    "import math\n",
    "\n",
    "import os\n",
    "from mpl_toolkits.mplot3d import Axes3D\n",
    "\n",
    "from tabulate import tabulate\n",
    "\n",
    "import getdist\n",
    "from getdist import plots, gaussian_mixtures, MCSamples\n",
    "\n",
    "%matplotlib inline"
   ]
  },
  {
   "cell_type": "markdown",
   "id": "cc6137b4",
   "metadata": {},
   "source": [
    "# Introduction/Motivation/Useful Notes\n",
    "\n",
    "## Useful Notes\n",
    "\n",
    "* !!!Equations !$!$!, eqns w/ centering !$!$!$!$!; \n",
    "* !!!Markdown mode sections #, more ###, more subsections!!!\n",
    "* !!!git pull == update server with changes!!!\n",
    "* !!!git add . == updates all files and content!!!\n",
    "* !!!git commit -m '(update message)' ==stages the changes of files (prep to upload onto internet)!!!\n",
    "* !!!git push origin main == uploading changes!!!\n",
    "\n",
    "## Motivation\n",
    "* Let's start! We have two experiments, lets call them Planck and DES. Individual experiment have their own parameter determination, aka the different variables that affect the outcome of the experiment. For example, the Planck experiment measures the Cosmic Microwave Background (CMB), and the correlations between: Temperature versus Temperature, Tempertatue versus Elecftic Field, and Electric Field versis Electric Field. On the other hand, DES measures weak lensing and cosmic structure, and the correlations between:  \n",
    "\n",
    "* Let's assume we have subtracted the two posterior distributions from one another; the resulting posterior will be represented by \"samples.\" We define a Guassian Class to use as the KDE as needed in the code (which will come up multiple times throughout).\n",
    "\n",
    "## When\n",
    "!!!Describe what the gaussian class contains, what can we actually do with it!!!\n",
    "!!!Describe inputs and outputs!!!"
   ]
  },
  {
   "cell_type": "markdown",
   "id": "b5cdc7ac",
   "metadata": {},
   "source": [
    "# Kernal Density Estimation\n",
    "\n",
    "The Kernal Density Estimation, or KDE, allows one to find the \"shape\" or distrubution of a given set of points (and weights, if present). KDE is used in this case to obtain likelihood values for the samples, since we don't already have them.\n",
    "\n",
    "\n",
    "## Gaussian Class\n",
    "\n",
    "First, we must define Gaussian class, which will be used as the KDE many times throughout the code. For the time being, the dimension of the parameter space is two, but will be worked up to 5D (which is the upper limit of what the KDE can do well). \n",
    "\n",
    "The elements of this class include:\n",
    "* Covariance Matrix == represents covariance values of pair of elements in any given random vector\n",
    "* Inverse Covariance Matrix => Important for taking the determanint! (more so to help out mathematically)\n",
    "* \n",
    "\n",
    "Here, the smoothing function, K(x), is: positive-definite, smooth (continous and differentiable), \n",
    "$$K(x)=\\frac{1}{\\sqrt{2\\pi\\det{\\Sigma}}} e^{-\\frac{1}{2}(x-\\mu)^T\\Sigma^{-1}(x-\\mu)}$$\n",
    "\n",
    "\n",
    "\n",
    "\n",
    "And H is the bandwidth matrix, of the covairance matrix, and acts as a scaling\n",
    "\n",
    "And $K_H(x)$ is the smoothing kernal."
   ]
  },
  {
   "cell_type": "code",
   "execution_count": 2,
   "id": "c1e21cc0",
   "metadata": {},
   "outputs": [],
   "source": [
    "d=2                  #d==dimension\n",
    "mean = np.ones(d)    \n",
    "\n",
    "#Define Gaussian Class\n",
    "class Gaussian:\n",
    "    def __init__(self, covmat=(0.1)*np.diag(v=np.ones(len(mean)), k=0)):\n",
    "        self.covmat = covmat        \n",
    "    def evaluate(self, x, mean):\n",
    "        cov = self.covmat\n",
    "        inv_cov = np.linalg.inv(cov)\n",
    "        if (np.linalg.det(2*np.pi*cov))**(-0.5) >= 0.0:\n",
    "            return((2*np.pi*(np.linalg.det(cov)))**(-0.5)*np.exp((-0.5)*(x-mean)@inv_cov@(x-mean)))\n",
    "        else:\n",
    "            print(\"Determinant of covariance matrix is not positive definite.\")"
   ]
  },
  {
   "cell_type": "markdown",
   "id": "58479e63",
   "metadata": {},
   "source": [
    "## Modelling the Zero-Vector using KDE\n",
    "Let's assume we have subtracted the two posterior distributions from one another; the resulting posterior will be represented by \"samples!\" We want to obtain likelihood values for samples through KDE! \n",
    "\n",
    "\n",
    "#### Overall goal is to find the level of agreeablness between Planck and DESY. \n",
    "We can do this by calculating $n_{\\sigma}$.\n",
    "\n",
    "But let's first obtain the likelihood samples through KDE! \n",
    "\n",
    "#1 First subtract the nongaussian posteriors to find the resultant posterior (better yet, use samples difference), which will be labelled as P(0), the zero vector we will model from. Here, we use \"samples\" as the resultant posterior, since this is a model! \"Samples\" is random samples drawn from an arbitrary, multivariate distrubution.\n",
    "+ The paper uses this definition as shorthand: $$P(x) \\equiv P(\\Delta \\theta)$$\n",
    "\n",
    "\n",
    "#2 P(0) is the posterior, or the probability distrubution of the sample difference. We use the Gaussian class to do the KDE. Using the sample size to be 20000 points, we will find the value of the likelihood! This is super-duper important for the rest of the code!!!\n",
    "+ This is calculating the shift $\\Delta\\theta = 0$"
   ]
  },
  {
   "cell_type": "code",
   "execution_count": 3,
   "id": "d385d7b9",
   "metadata": {},
   "outputs": [
    {
     "name": "stdout",
     "output_type": "stream",
     "text": [
      "0.15266984773900494\n",
      "2\n"
     ]
    }
   ],
   "source": [
    "#Sample Points from Gaussian\n",
    "g = Gaussian()\n",
    "mean = np.ones(d)\n",
    "x=np.zeros(len(mean))\n",
    "covariance = np.diag(v=np.ones(len(mean)), k=0)\n",
    "samples = np.random.multivariate_normal(mean, covariance, size=20000)\n",
    "P0 = 0\n",
    "for m in samples:\n",
    "    P0 += (20000)**(-1.0)*g.evaluate(x,m)\n",
    "   \n",
    "#print(samples)\n",
    "print(P0)         #Important! This is what all other local pvalues will be compared to!\n",
    "print(len(mean))  #Check dimension:)"
   ]
  },
  {
   "cell_type": "markdown",
   "id": "7c16f6e4",
   "metadata": {},
   "source": [
    "This is the distrubution of the samples; depending on dimension, the plots are shown."
   ]
  },
  {
   "cell_type": "code",
   "execution_count": 4,
   "id": "2f182e26",
   "metadata": {},
   "outputs": [
    {
     "name": "stdout",
     "output_type": "stream",
     "text": [
      "Removed no burn in\n"
     ]
    },
    {
     "data": {
      "image/png": "[encoded data removed]",
      "text/plain": [
       "<Figure size 288x288 with 3 Axes>"
      ]
     },
     "metadata": {
      "needs_background": "light"
     },
     "output_type": "display_data"
    }
   ],
   "source": [
    "#Simulate Samples\n",
    "\n",
    "names = [\"x%s\"%i for i in range(d)]\n",
    "labels =  [\"x_%s\"%i for i in range(d)]\n",
    "\n",
    "s = getdist.mcsamples.MCSamples(samples= samples, names = names, labels=labels)\n",
    "\n",
    "plot = plots.get_subplot_plotter()\n",
    "plot.triangle_plot(s)"
   ]
  },
  {
   "cell_type": "markdown",
   "id": "dda3121a",
   "metadata": {},
   "source": [
    "## Convergence Test\n",
    "\n",
    "From the random samples generated, this is to determine that the sample size is enough to converge to a given p-value, which is shown below! Different sample lengths are tested, and it can be shown that $ P(\\theta) $ converges past $ 10^3 $ samples. Therefore, any chain with sample lengths greater than $10^3$ should be enough to accurately determine the probability."
   ]
  },
  {
   "cell_type": "code",
   "execution_count": 5,
   "id": "d99ddad5",
   "metadata": {
    "scrolled": true
   },
   "outputs": [
    {
     "name": "stdout",
     "output_type": "stream",
     "text": [
      "[0.10192217 0.         0.         0.         0.         0.\n",
      " 0.         0.         0.         0.         0.        ]\n",
      "[0.10192217 0.26684987 0.         0.         0.         0.\n",
      " 0.         0.         0.         0.         0.        ]\n",
      "[0.10192217 0.26684987 0.18193192 0.         0.         0.\n",
      " 0.         0.         0.         0.         0.        ]\n",
      "[0.10192217 0.26684987 0.18193192 0.1797781  0.         0.\n",
      " 0.         0.         0.         0.         0.        ]\n",
      "[0.10192217 0.26684987 0.18193192 0.1797781  0.1659681  0.\n",
      " 0.         0.         0.         0.         0.        ]\n",
      "[0.10192217 0.26684987 0.18193192 0.1797781  0.1659681  0.15786838\n",
      " 0.         0.         0.         0.         0.        ]\n",
      "[0.10192217 0.26684987 0.18193192 0.1797781  0.1659681  0.15786838\n",
      " 0.21002302 0.         0.         0.         0.        ]\n",
      "[0.10192217 0.26684987 0.18193192 0.1797781  0.1659681  0.15786838\n",
      " 0.21002302 0.15448222 0.         0.         0.        ]\n",
      "[0.10192217 0.26684987 0.18193192 0.1797781  0.1659681  0.15786838\n",
      " 0.21002302 0.15448222 0.1549907  0.         0.        ]\n",
      "[0.10192217 0.26684987 0.18193192 0.1797781  0.1659681  0.15786838\n",
      " 0.21002302 0.15448222 0.1549907  0.14267887 0.        ]\n",
      "[0.10192217 0.26684987 0.18193192 0.1797781  0.1659681  0.15786838\n",
      " 0.21002302 0.15448222 0.1549907  0.14267887 0.14887354]\n"
     ]
    },
    {
     "data": {
      "image/png": "[encoded data removed]",
      "text/plain": [
       "<Figure size 432x288 with 1 Axes>"
      ]
     },
     "metadata": {
      "needs_background": "light"
     },
     "output_type": "display_data"
    }
   ],
   "source": [
    "#Generate random samples to test where the convergence of the P(0) is!\n",
    "sample_length = [10, 20, 30, 40, 50, 75, 100, 1000, 10000, 15000, 20000]\n",
    "pval = np.zeros(len(sample_length))\n",
    "for i in range(len(sample_length)):\n",
    "    length = sample_length[i]\n",
    "    samples = np.random.multivariate_normal(mean, covariance, size=length)\n",
    "    P=0\n",
    "    for m in samples:\n",
    "        P += (length)**(-1.0)*g.evaluate(x,m)\n",
    "    \n",
    "    pval[i] = P\n",
    "    print(pval)\n",
    "    \n",
    "plt.title(\"Convergence Test\")\n",
    "plt.plot(sample_length, pval)\n",
    "plt.xlabel(\"Number_of_Samples\")\n",
    "plt.ylabel(\"Probability\")\n",
    "plt.xscale('log')"
   ]
  },
  {
   "cell_type": "markdown",
   "id": "ed628ec2",
   "metadata": {},
   "source": [
    "## KD-Trees Method\n",
    "\n",
    "### What KD-Trees is?\n",
    "The KD-Trees, or k-dimensional trees method, is used to partition the given space (in this case, the sample space is being partitioned). This is used to order the data points, and throw away points that are far from the k nearest neighbors (where $k \\in \\set{Z^+}$). In all, it allows for the organization of points in k-dimensional space.\n",
    "\n",
    "### What KD-Trees is used to do within this code?\n",
    "The KD-Trees Method is used to organize the $ P(\\theta) $ such that all of the indivdual p-values are ranked (rather indexed) greatest to least. This makes doing the KDE faster and easier, since all the p-values are well-ordered.\n",
    "\n",
    "\n",
    "### What is being done right now with KD-Trees Method?\n",
    "From the samples, the kd-trees method has been imposed on the sample space. After this, the nearest neighbor search will begin, and:\n",
    "\n",
    "#1 The tree will be queried for the k=1000 nearest neighbors,\n",
    "\n",
    "#2 The indicies of those neighbors will be found, then\n",
    "\n",
    "#3 The data points will be extracted from said indicies.\n",
    "\n",
    "The datapoints are useful to find the $P(\\Delta\\theta)$ in the next step."
   ]
  },
  {
   "cell_type": "code",
   "execution_count": 6,
   "id": "f81c175a",
   "metadata": {},
   "outputs": [],
   "source": [
    "#KD-Tree Time :O\n",
    "#From samples, find k+1 nearest neighbors with kdtree, k=1000 nearest neighbors\n",
    "kdtree = KDTree(samples)\n",
    "#Query (Ask) the kdtree for nearest neighbors!\n",
    "query = kdtree.query(x=np.zeros(d), k=1000)\n",
    "#print(query)"
   ]
  },
  {
   "cell_type": "code",
   "execution_count": 7,
   "id": "60be4fcc",
   "metadata": {
    "scrolled": true
   },
   "outputs": [],
   "source": [
    "#What are the indices of the Nearest Neighbors?\n",
    "index = query[1]\n",
    "#print(index)"
   ]
  },
  {
   "cell_type": "code",
   "execution_count": 8,
   "id": "dbe99d0c",
   "metadata": {},
   "outputs": [],
   "source": [
    "#Now that the Index of the Nearest Neighbors are known, the indices could be used to find the data points of said NN!\n",
    "data = kdtree.data[index]\n",
    "#print(data)"
   ]
  },
  {
   "cell_type": "markdown",
   "id": "a8aa155f",
   "metadata": {},
   "source": [
    "## Gaussian Around Sampled Points\n",
    "\n",
    "In the last step, the data points were extracted, but now, we need to do a Gaussian of those sampled points to find their p-value, $P(\\theta)$. The gaussian class is used once again to calculate the gaussian around the sampled points, which are the datapoints found in the last step.\n",
    "\n",
    "### Code Description\n",
    "\n",
    " #1 From \"samples,\" pick one data-point to be the \"modelled point\" and query the tree for the k=1000 nearest neighbors.\n",
    " \n",
    " #2 Get data-points of the nearest neighbors (insert Jeopardy music for how long it takes).\n",
    " \n",
    " #3 Do a Gaussian around each sampled-point, using the datapoints of the \"modelled data,\" and comparing it to the \"modelled point\"(modpoint is the point being compared to).\n",
    " \n",
    " #4 Retrieve $P(\\Delta\\theta)$, which will be an array of p-values."
   ]
  },
  {
   "cell_type": "code",
   "execution_count": 9,
   "id": "f8e96d2d",
   "metadata": {},
   "outputs": [
    {
     "name": "stdout",
     "output_type": "stream",
     "text": [
      "19999[2.77788764 1.63021009 2.97097476 ... 2.15989742 2.9915963  0.92940996]\n"
     ]
    }
   ],
   "source": [
    "#Gaussian Around Sampled Points\n",
    "\n",
    "pvalsamples = np.zeros(len(samples))  #Used to input $P_i(\\theta)$ values\n",
    "\n",
    "#Pick one data point as modelled point, compare every other point to \"modelled\" point\n",
    "for i in range(len(samples)):\n",
    "    modpoint = samples[i]\n",
    "    modquery = kdtree.query(modpoint, k=1000)\n",
    "    modindex = modquery[1]\n",
    "    moddata = kdtree.data[modindex]\n",
    "    print('\\r' +str(i),end='')\n",
    "    Pd = (1/1000)\n",
    "    for j in range(len(moddata)):\n",
    "        Pd += (1000)**(-1.0)*g.evaluate(moddata[j], modpoint)\n",
    "        \n",
    "    pvalsamples[i] = Pd #Pval of samples \n",
    "\n",
    "#print(len(data))\n",
    "#print(data)\n",
    "print(pvalsamples)"
   ]
  },
  {
   "cell_type": "markdown",
   "id": "d5a7ee02",
   "metadata": {},
   "source": [
    "## Compare $P(\\Delta\\theta)$ to $P(0)$\n",
    "In order to calculate the shift, $\\hat{\\Delta}$, whose KDE estimate is:\n",
    "\n",
    "$$\\hat{\\Delta} = \\int_{P(x) > P(x_0)} P(x)dx$$.\n",
    "\n",
    "This process is called neighbor elimination, where it can be observed that the probability does not depend on the actual value of $P(x)$, but rather its relative value compared to $P(x_0)$. \n",
    "\n",
    "$$\\hat{\\Delta} = \\frac{1}{w_{tot}} \\sum_{i=1}^n w_i S(\\hat{P}(x) - \\hat{P}(x_0))$$\n",
    "\n",
    "This comes from the Monte-Carlov volume integral, which has a threshold crossing problem; since the kernal is positive, so we get rid of any $P(x) > P(x_0)$.\n"
   ]
  },
  {
   "cell_type": "code",
   "execution_count": 10,
   "id": "18596022",
   "metadata": {},
   "outputs": [
    {
     "name": "stdout",
     "output_type": "stream",
     "text": [
      "19752\n",
      "248\n"
     ]
    }
   ],
   "source": [
    "#Compare Values Pi to P0\n",
    "#Want to count all points that satify (Pi > P0) for integration; save other points for later (into Reject they go)!\n",
    "\n",
    "Accept = []   #Accept Pi >= P0\n",
    "Reject = []   #Reject because Pi < P0\n",
    "\n",
    "for i in range(len(pvalsamples)):\n",
    "    Pi = pvalsamples[i]\n",
    "    if (Pi >= P0):\n",
    "        #print('Yeehaw!')\n",
    "        Accept.append([i,Pi])\n",
    "    else:\n",
    "        #print('Nope lol, you tried')\n",
    "        Reject.append([i,Pi])\n",
    "\n",
    "print(len(Accept))\n",
    "print(len(Reject))\n",
    "\n",
    "#print(Accept)\n",
    "#print(Reject)  "
   ]
  },
  {
   "cell_type": "markdown",
   "id": "0ac12ac7",
   "metadata": {},
   "source": [
    "## Rejected Values\n",
    "\n"
   ]
  },
  {
   "cell_type": "code",
   "execution_count": 11,
   "id": "31296b70",
   "metadata": {},
   "outputs": [
    {
     "name": "stdout",
     "output_type": "stream",
     "text": [
      "248 0\n",
      "[38, 85, 500, 503, 512, 532, 712, 902, 930, 1083, 1216, 1245, 1307, 1464, 1570, 1683, 1684, 1704, 1715, 1846, 1859, 1976, 1977, 2169, 2307, 2316, 2369, 2657, 2682, 2696, 2711, 2724, 2824, 2872, 2892, 2918, 2960, 2982, 3027, 3097, 3167, 3178, 3207, 3235, 3280, 3314, 3337, 3358, 3461, 3500, 3536, 3558, 3571, 3601, 3854, 3874, 3914, 3993, 4039, 4226, 4312, 4390, 4510, 4554, 4574, 4591, 4593, 4776, 4806, 4825, 4907, 4908, 5014, 5057, 5159, 5162, 5492, 5496, 5537, 5914, 5935, 6026, 6122, 6195, 6257, 6308, 6339, 6488, 6526, 6559, 6573, 6698, 6898, 7021, 7248, 7279, 7396, 7412, 7454, 7598, 7630, 7722, 7898, 8017, 8162, 8195, 8205, 8241, 8265, 8427, 8540, 8547, 8553, 8606, 8625, 8652, 8660, 8661, 8716, 8806, 8847, 8915, 8954, 9007, 9159, 9359, 9468, 9473, 9596, 9610, 9646, 9793, 9899, 9980, 10027, 10028, 10037, 10059, 10065, 10119, 10153, 10235, 10247, 10257, 10450, 10787, 10815, 10832, 11148, 11197, 11209, 11255, 11447, 11456, 11465, 11544, 11648, 11703, 11726, 11886, 11970, 12048, 12067, 12217, 12389, 12420, 12434, 12484, 12542, 12677, 12734, 12841, 12917, 13103, 13112, 13168, 13222, 13282, 13347, 13448, 13457, 13509, 13551, 13693, 13712, 13967, 14062, 14277, 14304, 14343, 14355, 14414, 14592, 14619, 14653, 15069, 15142, 15349, 15551, 15662, 15795, 15858, 15986, 16020, 16046, 16116, 16159, 16248, 16437, 16483, 16604, 16717, 17022, 17047, 17156, 17189, 17496, 17520, 17657, 17708, 17763, 17843, 17886, 17899, 17903, 17927, 18029, 18033, 18152, 18257, 18260, 18480, 18489, 18538, 18614, 18696, 18755, 19118, 19312, 19375, 19421, 19487, 19580, 19638, 19687, 19714, 19838, 19919]\n"
     ]
    }
   ],
   "source": [
    "#Which Pi < P0 to accept b/c boundary point? Redemption time!\n",
    "# k==Nearest Neighbors, if nearest neighbor number is too low, won't count points that are maybe important\n",
    "\n",
    "NN= int(1000)\n",
    "\n",
    "Redemption = []\n",
    "Death = []\n",
    "\n",
    "# Reject[i] = [index,Pval]\n",
    "for i in range(len(Reject)):\n",
    "    Re = Reject[i][1] #Pval\n",
    "    if (Re*(len(samples)- NN) >= P0):\n",
    "        Redemption.append(Reject[i][0]) #append index\n",
    "    else:\n",
    "        Death.append(Re)\n",
    "        \n",
    "print(len(Redemption), len(Death))\n",
    "print(Redemption)"
   ]
  },
  {
   "cell_type": "code",
   "execution_count": 12,
   "id": "ef05ac47",
   "metadata": {},
   "outputs": [
    {
     "name": "stdout",
     "output_type": "stream",
     "text": [
      "[0.00209428 0.00029475 0.00647036 0.00646337 0.00166121 0.00749707\n",
      " 0.00680083 0.0044356  0.00381034 0.00741276 0.00623791 0.00676941\n",
      " 0.00164854 0.00285581 0.00568223 0.00158354 0.00083447 0.00232727\n",
      " 0.00164111 0.00572425 0.00619364 0.00702677 0.00309574 0.00677243\n",
      " 0.00159351 0.00098429 0.00585451 0.00613791 0.00646615 0.00669529\n",
      " 0.00279982 0.0073002  0.00123956 0.00625538 0.00644856 0.00482695\n",
      " 0.00720986 0.00524365 0.006664   0.00490677 0.00759679 0.00164264\n",
      " 0.00427603 0.00641006 0.0043935  0.00582133 0.0075699  0.00338011\n",
      " 0.00420858 0.00185929 0.00454999 0.003875   0.00484487 0.00369442\n",
      " 0.00454567 0.00160322 0.00143934 0.00564309 0.00162824 0.00627889\n",
      " 0.00447545 0.00734597 0.00239756 0.00264119 0.00074069 0.00649953\n",
      " 0.00446144 0.00299157 0.00613196 0.00668934 0.00564129 0.00645268\n",
      " 0.00622    0.00048804 0.00538968 0.00524508 0.0040831  0.00559957\n",
      " 0.00733611 0.00430575 0.00711179 0.00352787 0.00746739 0.00615702\n",
      " 0.00458255 0.00235425 0.0021194  0.0062366  0.00185283 0.00624309\n",
      " 0.00759862 0.00653607 0.00725455 0.00544711 0.0011175  0.0055668\n",
      " 0.00230701 0.00222528 0.00124252 0.00129207 0.00746796 0.00173818\n",
      " 0.00456691 0.00563063 0.00521611 0.00680486 0.00686325 0.00283099\n",
      " 0.00447111 0.00190077 0.0016234  0.00501635 0.00506228 0.0046962\n",
      " 0.00371691 0.00295086 0.00762457 0.00414651 0.00293629 0.00646698\n",
      " 0.00373618 0.00305048 0.0067969  0.00378666 0.00513168 0.00299194\n",
      " 0.00620605 0.00046511 0.00567184 0.00196809 0.00227666 0.00352056\n",
      " 0.00708434 0.00164952 0.00081073 0.00357745 0.00162001 0.00381237\n",
      " 0.00412618 0.00405812 0.00685664 0.00422957 0.00165817 0.00628811\n",
      " 0.00568377 0.00762159 0.0062429  0.00632377 0.00464662 0.00698976\n",
      " 0.00388417 0.00372473 0.0067131  0.00118437 0.00609819 0.00754749\n",
      " 0.00739408 0.00463826 0.00586588 0.00395555 0.00727801 0.00127591\n",
      " 0.00293831 0.00758256 0.00631776 0.00028265 0.00684889 0.00494811\n",
      " 0.00157518 0.00077153 0.00494068 0.00255432 0.00570936 0.00245343\n",
      " 0.00576576 0.00493305 0.00601911 0.0007584  0.00039946 0.00259968\n",
      " 0.00399326 0.00505986 0.00144679 0.00034928 0.00701901 0.00745119\n",
      " 0.00210184 0.00488713 0.00492857 0.00405124 0.00617289 0.00448443\n",
      " 0.00692077 0.00664739 0.00429002 0.00400695 0.00572333 0.00443531\n",
      " 0.00084443 0.00198624 0.00486654 0.0063686  0.00239581 0.00435574\n",
      " 0.00590368 0.00048292 0.00668378 0.00425539 0.00388761 0.00252584\n",
      " 0.00755281 0.0067933  0.00124836 0.00525985 0.00710434 0.00514063\n",
      " 0.00151041 0.00457175 0.00735189 0.00630687 0.0018367  0.00622553\n",
      " 0.00603557 0.00597435 0.00165281 0.00428465 0.00364792 0.00712027\n",
      " 0.00289255 0.00426191 0.0072463  0.00393883 0.00245622 0.00641848\n",
      " 0.00382471 0.00423396 0.00484173 0.00078005 0.00226714 0.00416869\n",
      " 0.0052344  0.00539839 0.00071574 0.00371193 0.00225641 0.00564164\n",
      " 0.00543549 0.00759405]\n"
     ]
    }
   ],
   "source": [
    "#Redemption needs to be KDTree'd to find it's nearest nearest neighbors, but better than before\n",
    "\n",
    "pxiarray = np.zeros(len(Redemption))\n",
    "for i in range(len(Redemption)):\n",
    "    xi = samples[Redemption[i]]\n",
    "    xiquery = kdtree.query(xi, k=len(samples))\n",
    "    xiindex = xiquery[1]\n",
    "    xidata = kdtree.data[xiindex]   #Points that are NN\n",
    "    Pxi = (len(samples))**(-1.0)\n",
    "    for j in range(5*NN):\n",
    "        Pxi += (len(samples))**(-1.0)*g.evaluate(xi, xidata[j])\n",
    "\n",
    "    pxiarray[i]=Pxi\n",
    "\n",
    "print(pxiarray)"
   ]
  },
  {
   "cell_type": "code",
   "execution_count": 13,
   "id": "65d2f81b",
   "metadata": {},
   "outputs": [
    {
     "ename": "SyntaxError",
     "evalue": "invalid syntax (2044877081.py, line 12)",
     "output_type": "error",
     "traceback": [
      "\u001b[0;36m  File \u001b[0;32m\"/tmp/ipykernel_4015974/2044877081.py\"\u001b[0;36m, line \u001b[0;32m12\u001b[0m\n\u001b[0;31m    pdf =\u001b[0m\n\u001b[0m          ^\u001b[0m\n\u001b[0;31mSyntaxError\u001b[0m\u001b[0;31m:\u001b[0m invalid syntax\n"
     ]
    }
   ],
   "source": [
    "#P(x_i)vs (P_j-mu_j)\n",
    "x = np.linspace(-5,5,20)\n",
    "y = np.linspace(-5,5,20)\n",
    "print(x)\n",
    "\n",
    "#v, yv = np.meshgrid(x, y, indexing='ij')\n",
    "for i in range(len(x)):\n",
    "    print(x[i])\n",
    "    for j in range(len(y)):\n",
    "        print(y[j])\n",
    "\n",
    "pdf = \n",
    "#calculate the pdf, then do contour plots"
   ]
  },
  {
   "cell_type": "code",
   "execution_count": null,
   "id": "a6ec6d19",
   "metadata": {},
   "outputs": [],
   "source": [
    "#Check same conditions as before\n",
    "Accept1 = []\n",
    "Reject1 =[]\n",
    "for i in range(len(pxiarray)):\n",
    "    pxi = pxiarray[i]\n",
    "    if (pxi >= P0):\n",
    "        Accept1.append([i,pxi])\n",
    "    else:\n",
    "        Reject1.append([i, pxi])\n",
    "\n",
    "print(len(Accept1))\n",
    "print(len(Reject1))"
   ]
  },
  {
   "cell_type": "code",
   "execution_count": null,
   "id": "763c9647",
   "metadata": {},
   "outputs": [],
   "source": [
    "#Out on the side, who will survive? How many points were lost in the fires of rejected points lol\n",
    "\n",
    "#what comes out is the number of points that need to\n",
    "Redemption1 = []\n",
    "Death1 = []\n",
    "\n",
    "for i in range(len(Reject1)):\n",
    "    Re1 = Reject1[i][1] #Pval\n",
    "    if (Re1*(len(samples)- NN) >= P0):\n",
    "        Redemption1.append(Reject1[i][0]) #append index\n",
    "    else:\n",
    "        Death1.append(Re1)\n",
    "        \n",
    "print(len(Redemption1), len(Death1))\n",
    "print(Redemption1)"
   ]
  },
  {
   "cell_type": "code",
   "execution_count": null,
   "id": "a589211c",
   "metadata": {},
   "outputs": [],
   "source": [
    "delta = len(Redemption1) #+ len(Redemption1) \n",
    "print(delta)"
   ]
  },
  {
   "cell_type": "code",
   "execution_count": null,
   "id": "34c1d915",
   "metadata": {},
   "outputs": [],
   "source": [
    "WEE = delta/len(samples)\n",
    "print(WEE)"
   ]
  },
  {
   "cell_type": "code",
   "execution_count": null,
   "id": "52680c38",
   "metadata": {},
   "outputs": [],
   "source": [
    "Columns = [\"Dimension\",\"$\\Delta$\",\"Compared to...\"]\n",
    "\n",
    "Finals = [[1,0,0],\n",
    "         [2,0.0219,],\n",
    "         [3,0.0219,],\n",
    "         [4,0.0076,],\n",
    "         [5,0,0]\n",
    "         ]\n",
    "\n",
    "print(tabulate(Finals, headers=Columns))"
   ]
  }
 ],
 "metadata": {
  "kernelspec": {
   "display_name": "Python 3 (ipykernel)",
   "language": "python",
   "name": "python3"
  },
  "language_info": {
   "codemirror_mode": {
    "name": "ipython",
    "version": 3
   },
   "file_extension": ".py",
   "mimetype": "text/x-python",
   "name": "python",
   "nbconvert_exporter": "python",
   "pygments_lexer": "ipython3",
   "version": "3.7.7"
  }
 },
 "nbformat": 4,
 "nbformat_minor": 5
}
