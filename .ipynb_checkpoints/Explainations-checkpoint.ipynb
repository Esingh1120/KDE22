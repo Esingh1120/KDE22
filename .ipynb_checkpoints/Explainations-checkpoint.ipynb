{
 "cells": [
  {
   "cell_type": "code",
   "execution_count": 1,
   "id": "67f3f366",
   "metadata": {},
   "outputs": [],
   "source": [
    "#Reference\n",
    "import numpy as np\n",
    "import scipy as sp\n",
    "from scipy.spatial import KDTree\n",
    "import warnings\n",
    "%matplotlib inline\n",
    "import matplotlib.pyplot as plt\n",
    "from IPython.core.debugger import set_trace\n",
    "import math\n",
    "\n",
    "import os\n",
    "from mpl_toolkits.mplot3d import Axes3D\n",
    "\n",
    "from tabulate import tabulate\n",
    "\n",
    "import getdist\n",
    "from getdist import plots, gaussian_mixtures, MCSamples\n",
    "\n",
    "%matplotlib inline"
   ]
  },
  {
   "cell_type": "markdown",
   "id": "4b5f209b",
   "metadata": {},
   "source": [
    "# Introduction/Motivation/Useful Notes\n",
    "\n",
    "## Useful Notes\n",
    "\n",
    "* !!!Equations !$!$!, eqns w/ centering !$!$!$!$!; \n",
    "* !!!Markdown mode sections #, more ###, more subsections!!!\n",
    "* !!!git pull == update server with changes!!!\n",
    "* !!!git add . == updates all files and content!!!\n",
    "* !!!git commit -m '(update message)' ==stages the changes of files (prep to upload onto internet)!!!\n",
    "* !!!git push origin main == uploading changes!!!\n",
    "\n",
    "## Motivation\n",
    "* Let's start! We have two experiments, namely Planck and DESY. Individual experiments have their own parameter determination, aka the different variables that affect the outcome of the experiment. For example, the Planck experiment measures the Cosmic Microwave Background (CMB), and the correlations between: Temperature versus Temperature, Tempertatue versus Elecftic Field, and Electric Field versis Electric Field. On the other hand, DES measures weak lensing and cosmic structure, and the correlations between them.  \n",
    "\n",
    "* Let's assume we have subtracted the two posterior distributions from one another; the resulting posterior will be represented by \"samples.\" We define a Guassian Class to use as the KDE as needed in the code (which will come up multiple times throughout)."
   ]
  },
  {
   "cell_type": "markdown",
   "id": "772d1db3",
   "metadata": {},
   "source": [
    "# Kernal Density Estimation\n",
    "\n",
    "The Kernal Density Estimation, or KDE, allows one to find the \"shape\" or distrubution of a given set of points (and weights, if present). KDE is used in this case to obtain likelihood values for the samples, since we don't already have them.\n",
    "\n",
    "\n",
    "## Gaussian Class\n",
    "\n",
    "First, we must define Gaussian class, which will be used as the KDE many times throughout the code. For the time being, the dimension of the parameter space is two, but will be worked up to 5D (which is the upper limit of what the KDE can do well). \n",
    "\n",
    "The elements of this class include:\n",
    "* Covariance Matrix == represents covariance values of pair of elements in any given random vector\n",
    "* Inverse Covariance Matrix => Important for taking the determanint! (more so to help out mathematically)\n",
    "* \n",
    "\n",
    "Here, the smoothing function, K(x), is: positive-definite, smooth (continous and differentiable), \n",
    "$$K(x)=\\frac{1}{\\sqrt{2\\pi\\det{\\Sigma}}} e^{-\\frac{1}{2}(x-\\mu)^T\\Sigma^{-1}(x-\\mu)}$$\n",
    "\n",
    "\n",
    "\n",
    "\n",
    "And H is the bandwidth matrix, of the covairance matrix, and acts as a scaling\n",
    "\n",
    "And $K_H(x)$ is the smoothing kernal."
   ]
  },
  {
   "cell_type": "code",
   "execution_count": 2,
   "id": "a7792259",
   "metadata": {},
   "outputs": [],
   "source": [
    "d=2                  #d==dimension\n",
    "size=10000            #sample size\n",
    "mean = np.ones(d)    \n",
    "#Define Gaussian Class\n",
    "class Gaussian:\n",
    "    def __init__(self, covmat=(0.1)*np.diag(v=np.ones(len(mean)), k=0)):\n",
    "        self.covmat = covmat        \n",
    "    def evaluate(self, x, mean):\n",
    "        cov = self.covmat\n",
    "        inv_cov = np.linalg.inv(cov)\n",
    "        if (np.linalg.det(2*np.pi*cov))**(-0.5) >= 0.0:\n",
    "            return((2*np.pi*(np.linalg.det(cov)))**(-0.5)*np.exp((-0.5)*(x-mean)@inv_cov@(x-mean)))\n",
    "        else:\n",
    "            print(\"Determinant of covariance matrix is not positive definite.\")"
   ]
  },
  {
   "cell_type": "markdown",
   "id": "f7a95baa",
   "metadata": {},
   "source": [
    "## Modelling the Zero-Vector using KDE\n",
    "Let's assume we have subtracted the two posterior distributions from one another; the resulting posterior will be represented by \"samples!\" We want to obtain likelihood values for samples through KDE! \n",
    "\n",
    "\n",
    "#### Overall goal is to find the level of agreeablness between Planck and DESY. \n",
    "We can do this by calculating $n_{\\sigma}$.\n",
    "\n",
    "But let's first obtain the likelihood samples through KDE! \n",
    "\n",
    "#1 First subtract the nongaussian posteriors to find the resultant posterior (better yet, use samples difference), which will be labelled as P(0), the zero vector we will model from. Here, we use \"samples\" as the resultant posterior, since this is a model! \"Samples\" is random samples drawn from an arbitrary, multivariate distrubution.\n",
    "+ The paper uses this definition as shorthand: $$P(x) \\equiv P(\\Delta \\theta)$$\n",
    "\n",
    "\n",
    "#2 P(0) is the posterior, or the probability distrubution of the sample difference. We use the Gaussian class to do the KDE. Using the sample size to be 20000 points, we will find the value of the likelihood! This is super-duper important for the rest of the code!!!\n",
    "+ This is calculating the shift $\\Delta\\theta = 0$"
   ]
  },
  {
   "cell_type": "code",
   "execution_count": 3,
   "id": "7576c937",
   "metadata": {},
   "outputs": [
    {
     "name": "stdout",
     "output_type": "stream",
     "text": [
      "0.14257390772894904\n",
      "2\n"
     ]
    }
   ],
   "source": [
    "#Sample Points from Gaussian\n",
    "g = Gaussian()\n",
    "mean = np.ones(d)\n",
    "x=np.zeros(len(mean))\n",
    "covariance = np.diag(v=np.ones(len(mean)), k=0)\n",
    "samples = np.random.multivariate_normal(mean, covariance, size=size)\n",
    "P0 = 0\n",
    "for m in samples:\n",
    "    P0 += (size)**(-1.0)*g.evaluate(x,m)\n",
    "   \n",
    "#print(samples)\n",
    "print(P0)         #Important! This is what all other local pvalues will be compared to!\n",
    "print(len(mean))  #Check dimension:)"
   ]
  },
  {
   "cell_type": "markdown",
   "id": "eb2ce6a0",
   "metadata": {},
   "source": [
    "This is the distrubution of the samples(parameter difference); depending on dimension, the plots are shown."
   ]
  },
  {
   "cell_type": "code",
   "execution_count": 4,
   "id": "f62a0b2b",
   "metadata": {},
   "outputs": [
    {
     "name": "stdout",
     "output_type": "stream",
     "text": [
      "Removed no burn in\n"
     ]
    },
    {
     "data": {
      "image/png": "[encoded data removed]",
      "text/plain": [
       "<Figure size 288x288 with 3 Axes>"
      ]
     },
     "metadata": {
      "needs_background": "light"
     },
     "output_type": "display_data"
    }
   ],
   "source": [
    "#Simulate Samples\n",
    "\n",
    "names = [\"x%s\"%i for i in range(d)]\n",
    "labels =  [\"x_%s\"%i for i in range(d)]\n",
    "\n",
    "s = getdist.mcsamples.MCSamples(samples= samples, names = names, labels=labels)\n",
    "\n",
    "plot = plots.get_subplot_plotter()\n",
    "plot.triangle_plot(s)"
   ]
  },
  {
   "cell_type": "markdown",
   "id": "3cd1856d",
   "metadata": {},
   "source": [
    "## Convergence Test\n",
    "\n",
    "From the random samples generated, this is to determine that the sample size is enough to converge to a given p-value, which is shown below! Different sample lengths are tested, and it can be shown that $ P(\\theta) $ converges past $ 10^3 $ samples. Therefore, any chain with sample lengths greater than $10^3$ should be enough to accurately determine the probability."
   ]
  },
  {
   "cell_type": "code",
   "execution_count": 5,
   "id": "3eba7b1d",
   "metadata": {
    "scrolled": true
   },
   "outputs": [
    {
     "name": "stdout",
     "output_type": "stream",
     "text": [
      "[0.16536953 0.         0.         0.         0.         0.\n",
      " 0.         0.         0.        ]\n",
      "[0.16536953 0.1041006  0.         0.         0.         0.\n",
      " 0.         0.         0.        ]\n",
      "[0.16536953 0.1041006  0.07360074 0.         0.         0.\n",
      " 0.         0.         0.        ]\n",
      "[0.16536953 0.1041006  0.07360074 0.11376467 0.         0.\n",
      " 0.         0.         0.        ]\n",
      "[0.16536953 0.1041006  0.07360074 0.11376467 0.08484553 0.\n",
      " 0.         0.         0.        ]\n",
      "[0.16536953 0.1041006  0.07360074 0.11376467 0.08484553 0.13871776\n",
      " 0.         0.         0.        ]\n",
      "[0.16536953 0.1041006  0.07360074 0.11376467 0.08484553 0.13871776\n",
      " 0.23482424 0.         0.        ]\n",
      "[0.16536953 0.1041006  0.07360074 0.11376467 0.08484553 0.13871776\n",
      " 0.23482424 0.15457354 0.        ]\n",
      "[0.16536953 0.1041006  0.07360074 0.11376467 0.08484553 0.13871776\n",
      " 0.23482424 0.15457354 0.14423322]\n"
     ]
    },
    {
     "data": {
      "image/png": "[encoded data removed]",
      "text/plain": [
       "<Figure size 432x288 with 1 Axes>"
      ]
     },
     "metadata": {
      "needs_background": "light"
     },
     "output_type": "display_data"
    }
   ],
   "source": [
    "#Generate random samples to test where the convergence of the P(0) is!\n",
    "sample_length = [10, 20, 30, 40, 50, 75, 100, 1000, 5000] #,10000, 15000, 20000]\n",
    "pval = np.zeros(len(sample_length))\n",
    "for i in range(len(sample_length)):\n",
    "    length = sample_length[i]\n",
    "    samples = np.random.multivariate_normal(mean, covariance, size=length)\n",
    "    P=0\n",
    "    for m in samples:\n",
    "        P += (length)**(-1.0)*g.evaluate(x,m)\n",
    "    \n",
    "    pval[i] = P\n",
    "    print(pval)\n",
    "    \n",
    "plt.title(\"Convergence Test\")\n",
    "plt.plot(sample_length, pval)\n",
    "plt.xlabel(\"Number_of_Samples\")\n",
    "plt.ylabel(\"Probability\")\n",
    "plt.xscale('log')"
   ]
  },
  {
   "cell_type": "markdown",
   "id": "6d4cfa1b",
   "metadata": {},
   "source": [
    "## KD-Trees Method\n",
    "\n",
    "### What KD-Trees is?\n",
    "The KD-Trees, or k-dimensional trees method, is used to partition the given space (in this case, the sample space is being partitioned). This is used to order the data points, and throw away points that are far from the k nearest neighbors (where $k \\in \\set{Z^+}$). In all, it allows for the organization of points in k-dimensional space.\n",
    "\n",
    "### What KD-Trees is used to do within this code?\n",
    "The KD-Trees Method is used to organize the $ P(\\theta) $ such that all of the indivdual p-values are ranked (rather indexed) greatest to least. This makes doing the KDE faster and easier, since all the p-values are well-ordered.\n",
    "\n",
    "\n",
    "### What is being done right now with KD-Trees Method?\n",
    "From the samples, the kd-trees method has been imposed on the sample space. After this, the nearest neighbor search will begin, and:\n",
    "\n",
    "#1 The tree will be queried for the k=1000 nearest neighbors,\n",
    "\n",
    "#2 The indicies of those neighbors will be found, then\n",
    "\n",
    "#3 The data points will be extracted from said indicies.\n",
    "\n",
    "The datapoints are useful to find the $P(\\Delta\\theta)$ in the next step."
   ]
  },
  {
   "cell_type": "code",
   "execution_count": 6,
   "id": "cee74876",
   "metadata": {},
   "outputs": [],
   "source": [
    "#KD-Tree Time :O\n",
    "#From samples, find k+1 nearest neighbors with kdtree, k=1000 nearest neighbors\n",
    "kdtree = KDTree(samples)\n",
    "#Query (Ask) the kdtree for nearest neighbors!\n",
    "query = kdtree.query(x=np.zeros(d), k=1000)\n",
    "#print(query)"
   ]
  },
  {
   "cell_type": "code",
   "execution_count": 7,
   "id": "85a99eb1",
   "metadata": {
    "scrolled": true
   },
   "outputs": [],
   "source": [
    "#What are the indices of the Nearest Neighbors?\n",
    "index = query[1]\n",
    "#print(index)"
   ]
  },
  {
   "cell_type": "code",
   "execution_count": 8,
   "id": "c3326725",
   "metadata": {},
   "outputs": [
    {
     "name": "stdout",
     "output_type": "stream",
     "text": [
      "<class 'numpy.ndarray'> (1000, 2)\n"
     ]
    }
   ],
   "source": [
    "#Now that the Index of the Nearest Neighbors are known, the indices could be used to find the data points of said NN!\n",
    "data = kdtree.data[index]\n",
    "#print(data)\n",
    "print(type(data), data.shape)"
   ]
  },
  {
   "cell_type": "code",
   "execution_count": 9,
   "id": "dea59f1b",
   "metadata": {},
   "outputs": [
    {
     "data": {
      "image/png": "[encoded data removed]",
      "text/plain": [
       "<Figure size 432x288 with 1 Axes>"
      ]
     },
     "metadata": {
      "needs_background": "light"
     },
     "output_type": "display_data"
    }
   ],
   "source": [
    "#Scatter Plot of the data\n",
    "fig, bx= plt.subplots()\n",
    "bx.scatter(data[:,0],data[:,1])\n",
    "plt.title('Scatter Plot of Nearest Neighbors')\n",
    "plt.show()"
   ]
  },
  {
   "cell_type": "markdown",
   "id": "011aec51",
   "metadata": {},
   "source": [
    "## Gaussian Around Sampled Points\n",
    "\n",
    "In the last step, the data points were extracted, but now, we need to do a Gaussian of those sampled points to find their p-value, $P(\\theta)$. The gaussian class is used once again to calculate the gaussian around the sampled points, which are the datapoints found in the last step.\n",
    "\n",
    "### Code Description\n",
    "\n",
    " #1 From \"samples,\" pick one data-point to be the \"modelled point\" and query the tree for the k=1000 nearest neighbors.\n",
    " \n",
    " #2 Get data-points of the nearest neighbors (insert Jeopardy music for how long it takes).\n",
    " \n",
    " #3 Do a Gaussian around each sampled-point, using the datapoints of the \"modelled data,\" and comparing it to the \"modelled point\"(modpoint is the point being compared to).\n",
    " \n",
    " #4 Retrieve $P(\\Delta\\theta)$, which will be an array of p-values."
   ]
  },
  {
   "cell_type": "code",
   "execution_count": 10,
   "id": "517c0a37",
   "metadata": {},
   "outputs": [
    {
     "name": "stdout",
     "output_type": "stream",
     "text": [
      "4999[1.25879817 0.13461552 1.40594039 ... 0.55342641 0.88392349 1.22449767]\n"
     ]
    }
   ],
   "source": [
    "#Gaussian Around Sampled Points\n",
    "\n",
    "pvalsamples = np.zeros(len(samples))  #Used to input $P_i(\\theta)$ values\n",
    "\n",
    "#Pick one data point as modelled point, compare every other point to \"modelled\" point\n",
    "for i in range(len(samples)):\n",
    "    modpoint = samples[i]\n",
    "    modquery = kdtree.query(modpoint, k=1000)\n",
    "    modindex = modquery[1]\n",
    "    moddata = kdtree.data[modindex]\n",
    "    print('\\r' +str(i),end='')\n",
    "    Pd = (1/1000)\n",
    "    for j in range(len(moddata)):\n",
    "        Pd += (1000)**(-1.0)*g.evaluate(moddata[j], modpoint)\n",
    "        \n",
    "    pvalsamples[i] = Pd #Pval of samples \n",
    "\n",
    "\n",
    "print(pvalsamples)"
   ]
  },
  {
   "cell_type": "code",
   "execution_count": 11,
   "id": "842c26c7",
   "metadata": {
    "scrolled": false
   },
   "outputs": [
    {
     "name": "stdout",
     "output_type": "stream",
     "text": [
      "Removed no burn in\n",
      "Removed no burn in\n"
     ]
    },
    {
     "data": {
      "image/png": "[encoded data removed]",
      "text/plain": [
       "<Figure size 288x288 with 3 Axes>"
      ]
     },
     "metadata": {
      "needs_background": "light"
     },
     "output_type": "display_data"
    },
    {
     "data": {
      "image/png": "[encoded data removed]",
      "text/plain": [
       "<Figure size 288x288 with 3 Axes>"
      ]
     },
     "metadata": {
      "needs_background": "light"
     },
     "output_type": "display_data"
    },
    {
     "data": {
      "image/png": "[encoded data removed]",
      "text/plain": [
       "<Figure size 288x288 with 3 Axes>"
      ]
     },
     "metadata": {
      "needs_background": "light"
     },
     "output_type": "display_data"
    }
   ],
   "source": [
    "#Triangle Plots of P(0) and P(\\Delta\\Theta) individually to examine how they look like in each dimension\n",
    "\n",
    "samples_MC = samples.copy()\n",
    "pvalsamples_MC = pvalsamples.copy()\n",
    "\n",
    "samples_MC, pvalsamples_MC = gaussian_mixtures.randomTestMCSamples(ndim=d, nMCSamples=2)\n",
    "\n",
    "plot.triangle_plot([s], filled=True, legend_labels = ['P(0)'])\n",
    "\n",
    "plot.triangle_plot([pvalsamples_MC], filled=True, legend_labels = ['P(\\Delta \\Theta)'])\n",
    "\n",
    "\n",
    "#Plot how the P(0) compares with the P(\\Delta\\Theta)\n",
    "plot.triangle_plot([samples_MC, pvalsamples_MC], filled=True, legend_labels = ['P(0)', 'P(\\Delta \\Theta)'])"
   ]
  },
  {
   "cell_type": "markdown",
   "id": "286324bf",
   "metadata": {},
   "source": [
    "## Compare $P(\\Delta\\theta)$ to $P(0)$\n",
    "In order to calculate the shift, $\\hat{\\Delta}$, whose KDE estimate is:\n",
    "\n",
    "$$\\hat{\\Delta} = \\int_{P(x) > P(x_0)} P(x)dx$$.\n",
    "\n",
    "This process is called neighbor elimination, where it can be observed that the probability does not depend on the actual value of $P(x)$, but rather its relative value compared to $P(x_0)$. \n",
    "\n",
    "$$\\hat{\\Delta} = \\frac{1}{w_{tot}} \\sum_{i=1}^n w_i S(\\hat{P}(x) - \\hat{P}(x_0))$$\n",
    "\n",
    "This comes from the Monte-Carlo volume integral, which has a threshold crossing problem; since the kernal is positive, so we get rid of any $P(x) > P(x_0)$.\n"
   ]
  },
  {
   "cell_type": "code",
   "execution_count": 12,
   "id": "b2428480",
   "metadata": {},
   "outputs": [
    {
     "name": "stdout",
     "output_type": "stream",
     "text": [
      "4699\n",
      "301\n"
     ]
    }
   ],
   "source": [
    "#Compare Values Pi to P0\n",
    "#Want to count all points that satify (Pi > P0) for integration; save other points for later (into Reject they go)!\n",
    "\n",
    "Accept = []   #Accept Pi >= P0\n",
    "Reject = []   #Reject because Pi < P0\n",
    "\n",
    "for i in range(len(pvalsamples)):\n",
    "    Pi = pvalsamples[i]\n",
    "    if (Pi >= P0):\n",
    "        #print('Yeehaw!')\n",
    "        Accept.append([i,Pi])\n",
    "    else:\n",
    "        #print('Nope lol, you tried')\n",
    "        Reject.append([i,Pi])\n",
    "\n",
    "print(len(Accept))\n",
    "print(len(Reject))\n",
    "\n",
    "#print(Accept)\n",
    "#print(Reject)  "
   ]
  },
  {
   "cell_type": "markdown",
   "id": "3beec55e",
   "metadata": {},
   "source": [
    "## Rejected Values\n",
    "\n"
   ]
  },
  {
   "cell_type": "code",
   "execution_count": 13,
   "id": "48377f68",
   "metadata": {},
   "outputs": [
    {
     "name": "stdout",
     "output_type": "stream",
     "text": [
      "301 0\n",
      "[1, 30, 61, 78, 83, 85, 86, 92, 131, 173, 209, 228, 234, 252, 263, 271, 294, 296, 305, 309, 320, 366, 368, 393, 410, 420, 446, 465, 480, 481, 538, 552, 581, 584, 631, 662, 693, 715, 759, 824, 841, 862, 864, 869, 873, 894, 895, 910, 919, 922, 972, 981, 1024, 1027, 1044, 1066, 1076, 1077, 1088, 1105, 1124, 1125, 1148, 1181, 1184, 1191, 1201, 1244, 1273, 1307, 1309, 1310, 1329, 1337, 1353, 1370, 1377, 1406, 1411, 1430, 1432, 1458, 1473, 1495, 1501, 1504, 1509, 1518, 1526, 1536, 1554, 1592, 1594, 1599, 1603, 1609, 1630, 1632, 1655, 1666, 1669, 1679, 1682, 1683, 1684, 1713, 1734, 1739, 1758, 1778, 1790, 1794, 1808, 1828, 1840, 1843, 1873, 1898, 1906, 1921, 1932, 1934, 1974, 1981, 1986, 2000, 2011, 2012, 2040, 2048, 2053, 2064, 2070, 2152, 2182, 2246, 2253, 2261, 2262, 2271, 2279, 2291, 2310, 2329, 2335, 2342, 2379, 2384, 2423, 2425, 2477, 2495, 2500, 2518, 2557, 2565, 2611, 2614, 2617, 2619, 2627, 2639, 2658, 2710, 2711, 2715, 2720, 2749, 2757, 2763, 2768, 2775, 2800, 2833, 2881, 2882, 2912, 2916, 2939, 2940, 2948, 2953, 2955, 2958, 2961, 2974, 2977, 2984, 2992, 3018, 3034, 3038, 3053, 3080, 3091, 3113, 3127, 3150, 3153, 3162, 3200, 3202, 3236, 3266, 3267, 3276, 3282, 3317, 3348, 3363, 3384, 3395, 3405, 3417, 3421, 3430, 3442, 3448, 3462, 3473, 3523, 3528, 3537, 3540, 3544, 3548, 3589, 3592, 3624, 3625, 3635, 3649, 3655, 3670, 3683, 3724, 3790, 3819, 3837, 3864, 3866, 3886, 3906, 3939, 3941, 3988, 4003, 4016, 4033, 4041, 4049, 4061, 4062, 4067, 4073, 4080, 4083, 4088, 4124, 4161, 4169, 4173, 4190, 4194, 4211, 4231, 4247, 4261, 4277, 4337, 4358, 4386, 4407, 4412, 4442, 4482, 4493, 4505, 4531, 4534, 4535, 4545, 4600, 4610, 4615, 4658, 4665, 4668, 4740, 4781, 4789, 4805, 4865, 4884, 4889, 4892, 4906, 4914, 4921, 4948, 4990]\n"
     ]
    }
   ],
   "source": [
    "#Which Pi < P0 to accept b/c boundary point? Redemption time!\n",
    "# k==Nearest Neighbors, if nearest neighbor number is too low, won't count points that are maybe important\n",
    "\n",
    "NN= int(1000)\n",
    "\n",
    "Redemption = []\n",
    "Death = []\n",
    "\n",
    "# Reject[i] = [index,Pval]\n",
    "for i in range(len(Reject)):\n",
    "    Re = Reject[i][1] #Pval\n",
    "    if (Re*(len(samples)- NN) >= P0):\n",
    "        Redemption.append(Reject[i][0]) #append index\n",
    "    else:\n",
    "        Death.append(Re)\n",
    "        \n",
    "print(len(Redemption), len(Death))\n",
    "print(Redemption)"
   ]
  },
  {
   "cell_type": "code",
   "execution_count": 14,
   "id": "6d2cc5cb",
   "metadata": {},
   "outputs": [
    {
     "name": "stdout",
     "output_type": "stream",
     "text": [
      "[0.02692311 0.01591515 0.00360311 0.02216728 0.01308253 0.02575294\n",
      " 0.01451083 0.02778704 0.00123922 0.00284264 0.02836423 0.01230242\n",
      " 0.02100594 0.00099789 0.00728256 0.00501738 0.02561324 0.00169455\n",
      " 0.02162053 0.0097282  0.02702225 0.02110955 0.02197703 0.02326845\n",
      " 0.01702644 0.02501937 0.00314093 0.02013203 0.01451426 0.00811926\n",
      " 0.01142751 0.02639698 0.01624136 0.0253715  0.02259178 0.00750929\n",
      " 0.00100838 0.00335449 0.02847323 0.01028684 0.01469033 0.00538473\n",
      " 0.02831088 0.02707359 0.01606103 0.02414044 0.01680837 0.01684933\n",
      " 0.00391111 0.01385913 0.01386446 0.02148846 0.01902359 0.02748368\n",
      " 0.01058716 0.01968534 0.00655278 0.01136441 0.00973342 0.01121918\n",
      " 0.01674485 0.01417091 0.01565825 0.00278295 0.02514127 0.01946114\n",
      " 0.00410999 0.02698433 0.00163806 0.02201752 0.01179054 0.00757349\n",
      " 0.02482017 0.02212274 0.00799331 0.015647   0.01724486 0.01237827\n",
      " 0.0194399  0.00208738 0.028173   0.0179887  0.01744837 0.02813979\n",
      " 0.0236736  0.01990883 0.00627657 0.01384812 0.01116953 0.00318253\n",
      " 0.02475791 0.00801412 0.02358027 0.00661113 0.0151438  0.02306742\n",
      " 0.01741808 0.02474195 0.02293534 0.01563477 0.02490725 0.02175716\n",
      " 0.0164597  0.01256753 0.02732731 0.01199508 0.01081548 0.00450208\n",
      " 0.00113711 0.01047124 0.01992702 0.00780495 0.00191418 0.01294858\n",
      " 0.0158319  0.02154122 0.00164274 0.0074399  0.00571197 0.0183786\n",
      " 0.01627506 0.02002628 0.02768998 0.00553595 0.01996461 0.02375769\n",
      " 0.01193403 0.00948727 0.0270323  0.00402069 0.02606906 0.02836158\n",
      " 0.00447752 0.00582324 0.01243269 0.00808119 0.01303441 0.01234403\n",
      " 0.0099243  0.01284246 0.00784902 0.02454193 0.02693528 0.01113722\n",
      " 0.00529821 0.02349091 0.02439266 0.01629642 0.02482282 0.01678213\n",
      " 0.01942393 0.01793865 0.0226106  0.00455208 0.00100604 0.01994819\n",
      " 0.0283387  0.00896471 0.00422305 0.01116416 0.01379249 0.01335504\n",
      " 0.01063351 0.01629325 0.01552305 0.00804683 0.01456332 0.01526575\n",
      " 0.01625868 0.00852193 0.00454794 0.01531564 0.01296137 0.00745431\n",
      " 0.02287665 0.01442742 0.00520888 0.01197032 0.0263622  0.01038701\n",
      " 0.00663184 0.02530308 0.01919735 0.0197543  0.00796837 0.00359628\n",
      " 0.02688251 0.01068837 0.01373389 0.01473811 0.0232672  0.02550832\n",
      " 0.00771983 0.01841464 0.01128301 0.01965081 0.0072392  0.01506507\n",
      " 0.01009323 0.01219654 0.02686697 0.00875775 0.02030137 0.01303225\n",
      " 0.02503322 0.01887833 0.01405203 0.00419434 0.01092775 0.02684375\n",
      " 0.0081378  0.00794128 0.00278362 0.01853784 0.01582008 0.01669243\n",
      " 0.00935624 0.00582075 0.00958278 0.0270192  0.00447294 0.01341327\n",
      " 0.02283665 0.01390179 0.01721651 0.01944931 0.02065081 0.01188228\n",
      " 0.02794002 0.01002582 0.02743653 0.02580351 0.00893431 0.00967677\n",
      " 0.01217354 0.01892191 0.02130572 0.02123215 0.02019187 0.01168989\n",
      " 0.02682185 0.00163074 0.02564688 0.02771551 0.00788376 0.00541999\n",
      " 0.0154156  0.02459972 0.02277746 0.01734685 0.01584701 0.00665838\n",
      " 0.00994608 0.02642915 0.00396909 0.00368813 0.02028332 0.02240099\n",
      " 0.02161861 0.01766506 0.00965794 0.00825128 0.01414582 0.00745127\n",
      " 0.02033011 0.01114337 0.0260334  0.02598819 0.00679135 0.01715726\n",
      " 0.02015341 0.0147094  0.02263193 0.00458021 0.0267853  0.01460264\n",
      " 0.00362161 0.01682257 0.01560133 0.02282293 0.00812696 0.00742833\n",
      " 0.00808113 0.01836901 0.02747087 0.0173942  0.0129475  0.02842596\n",
      " 0.00312704 0.01552149 0.00647463 0.00717636 0.00985362 0.01662162\n",
      " 0.01785887 0.01227422 0.01784811 0.01056866 0.01846795 0.00192415\n",
      " 0.01838581]\n"
     ]
    }
   ],
   "source": [
    "#Redemption needs to be KDTree'd to find it's nearest nearest neighbors, but better than before\n",
    "\n",
    "pxiarray = np.zeros(len(Redemption))\n",
    "for i in range(len(Redemption)):\n",
    "    xi = samples[Redemption[i]]\n",
    "    xiquery = kdtree.query(xi, k=len(samples))\n",
    "    xiindex = xiquery[1]\n",
    "    xidata = kdtree.data[xiindex]   #Points that are NN\n",
    "    Pxi = (len(samples))**(-1.0)\n",
    "    for j in range(5*NN):\n",
    "        Pxi += (len(samples))**(-1.0)*g.evaluate(xi, xidata[j])\n",
    "\n",
    "    pxiarray[i]=Pxi\n",
    "\n",
    "print(pxiarray)"
   ]
  },
  {
   "cell_type": "raw",
   "id": "17858179",
   "metadata": {},
   "source": [
    "'''\n",
    "#P(x_i)vs (P_j-mu_j)\n",
    "x = np.linspace(-5,5,20)\n",
    "y = np.linspace(-5,5,20)\n",
    "print(x)\n",
    "\n",
    "#xv, yv = np.meshgrid(x, y, indexing='ij')\n",
    "for i in range(len(x)):\n",
    "    print(x[i])\n",
    "    for j in range(len(y)):\n",
    "        print(y[j])\n",
    "'''\n",
    "'''#Simulate Samples\n",
    "\n",
    "names = [\"x%s\"%i for i in range(d)]\n",
    "labels =  [\"x_%s\"%i for i in range(d)]\n",
    "\n",
    "s = getdist.mcsamples.MCSamples(samples= samples, names = names, labels=labels)\n",
    "\n",
    "plot = plots.get_subplot_plotter()\n",
    "plot.triangle_plot(s)'''\n",
    "'''pxi=0\n",
    "for i in range(len(pxiarray)):\n",
    "    pxi += (len(pxiarray))*(-1.0)*g.evaluate(pxiarray,xidata[i])\n",
    "\n",
    "#xv, yv = np.meshgrid((Pxi-, pvalsamples, )\n",
    "\n",
    "\n",
    "# pdf = \n",
    "#calculate the pdf, then do contour plots\n",
    "\n",
    "\n",
    "\n",
    "X, Y = np.meshgrid(np.linspace())'''"
   ]
  },
  {
   "cell_type": "code",
   "execution_count": 15,
   "id": "fc9d5766",
   "metadata": {},
   "outputs": [
    {
     "name": "stdout",
     "output_type": "stream",
     "text": [
      "0\n",
      "301\n"
     ]
    }
   ],
   "source": [
    "#Check same conditions as before\n",
    "Accept1 = []\n",
    "Reject1 =[]\n",
    "for i in range(len(pxiarray)):\n",
    "    pxi = pxiarray[i]\n",
    "    if (pxi >= P0):\n",
    "        Accept1.append([i,pxi])\n",
    "    else:\n",
    "        Reject1.append([i, pxi])\n",
    "\n",
    "print(len(Accept1))\n",
    "print(len(Reject1))"
   ]
  },
  {
   "cell_type": "code",
   "execution_count": 16,
   "id": "a9950941",
   "metadata": {},
   "outputs": [
    {
     "name": "stdout",
     "output_type": "stream",
     "text": [
      "301 0\n",
      "[0, 1, 2, 3, 4, 5, 6, 7, 8, 9, 10, 11, 12, 13, 14, 15, 16, 17, 18, 19, 20, 21, 22, 23, 24, 25, 26, 27, 28, 29, 30, 31, 32, 33, 34, 35, 36, 37, 38, 39, 40, 41, 42, 43, 44, 45, 46, 47, 48, 49, 50, 51, 52, 53, 54, 55, 56, 57, 58, 59, 60, 61, 62, 63, 64, 65, 66, 67, 68, 69, 70, 71, 72, 73, 74, 75, 76, 77, 78, 79, 80, 81, 82, 83, 84, 85, 86, 87, 88, 89, 90, 91, 92, 93, 94, 95, 96, 97, 98, 99, 100, 101, 102, 103, 104, 105, 106, 107, 108, 109, 110, 111, 112, 113, 114, 115, 116, 117, 118, 119, 120, 121, 122, 123, 124, 125, 126, 127, 128, 129, 130, 131, 132, 133, 134, 135, 136, 137, 138, 139, 140, 141, 142, 143, 144, 145, 146, 147, 148, 149, 150, 151, 152, 153, 154, 155, 156, 157, 158, 159, 160, 161, 162, 163, 164, 165, 166, 167, 168, 169, 170, 171, 172, 173, 174, 175, 176, 177, 178, 179, 180, 181, 182, 183, 184, 185, 186, 187, 188, 189, 190, 191, 192, 193, 194, 195, 196, 197, 198, 199, 200, 201, 202, 203, 204, 205, 206, 207, 208, 209, 210, 211, 212, 213, 214, 215, 216, 217, 218, 219, 220, 221, 222, 223, 224, 225, 226, 227, 228, 229, 230, 231, 232, 233, 234, 235, 236, 237, 238, 239, 240, 241, 242, 243, 244, 245, 246, 247, 248, 249, 250, 251, 252, 253, 254, 255, 256, 257, 258, 259, 260, 261, 262, 263, 264, 265, 266, 267, 268, 269, 270, 271, 272, 273, 274, 275, 276, 277, 278, 279, 280, 281, 282, 283, 284, 285, 286, 287, 288, 289, 290, 291, 292, 293, 294, 295, 296, 297, 298, 299, 300]\n"
     ]
    }
   ],
   "source": [
    "#Out on the side, who will survive? How many points were lost in the fires of rejected points lol\n",
    "\n",
    "#what comes out is the number of points that need to\n",
    "Redemption1 = []\n",
    "Death1 = []\n",
    "\n",
    "for i in range(len(Reject1)):\n",
    "    Re1 = Reject1[i][1] #Pval\n",
    "    if (Re1*(len(samples)- NN) >= P0):\n",
    "        Redemption1.append(Reject1[i][0]) #append index\n",
    "    else:\n",
    "        Death1.append(Re1)\n",
    "        \n",
    "print(len(Redemption1), len(Death1))\n",
    "print(Redemption1)"
   ]
  },
  {
   "cell_type": "code",
   "execution_count": 17,
   "id": "427d69d5",
   "metadata": {},
   "outputs": [
    {
     "name": "stdout",
     "output_type": "stream",
     "text": [
      "301\n"
     ]
    }
   ],
   "source": [
    "delta = len(Redemption1) #+ len(Redemption1) \n",
    "print(delta)"
   ]
  },
  {
   "cell_type": "code",
   "execution_count": 18,
   "id": "d1062164",
   "metadata": {},
   "outputs": [
    {
     "name": "stdout",
     "output_type": "stream",
     "text": [
      "0.0602\n"
     ]
    }
   ],
   "source": [
    "WEE = delta/len(samples)\n",
    "print(WEE)"
   ]
  },
  {
   "cell_type": "raw",
   "id": "77b6cd38",
   "metadata": {},
   "source": [
    "Columns = [\"Dimension\",\"$\\Delta$\",\"Compared to...\"]\n",
    "\n",
    "Finals = [[1,0,0],\n",
    "         [2,0.0219,],\n",
    "         [3,0.0219,],\n",
    "         [4,0.0076,],\n",
    "         [5,0,0]\n",
    "         ]\n",
    "\n",
    "print(tabulate(Finals, headers=Columns))"
   ]
  }
 ],
 "metadata": {
  "kernelspec": {
   "display_name": "Python 3 (ipykernel)",
   "language": "python",
   "name": "python3"
  },
  "language_info": {
   "codemirror_mode": {
    "name": "ipython",
    "version": 3
   },
   "file_extension": ".py",
   "mimetype": "text/x-python",
   "name": "python",
   "nbconvert_exporter": "python",
   "pygments_lexer": "ipython3",
   "version": "3.7.7"
  }
 },
 "nbformat": 4,
 "nbformat_minor": 5
}
