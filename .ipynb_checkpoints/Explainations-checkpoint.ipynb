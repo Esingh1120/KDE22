{
 "cells": [
  {
   "cell_type": "code",
   "execution_count": 1,
   "id": "a1825b36",
   "metadata": {},
   "outputs": [],
   "source": [
    "#Reference\n",
    "import numpy as np\n",
    "import scipy as sp\n",
    "from scipy.spatial import KDTree\n",
    "import warnings\n",
    "%matplotlib inline\n",
    "import matplotlib.pyplot as plt\n",
    "from IPython.core.debugger import set_trace\n",
    "import math\n",
    "\n",
    "import os\n",
    "from mpl_toolkits.mplot3d import Axes3D\n",
    "\n",
    "from tabulate import tabulate\n",
    "\n",
    "import getdist\n",
    "from getdist import plots, gaussian_mixtures, MCSamples\n",
    "\n",
    "%matplotlib inline"
   ]
  },
  {
   "cell_type": "markdown",
   "id": "42da07ca",
   "metadata": {},
   "source": [
    "# Introduction/Motivation/Useful Notes\n",
    "\n",
    "## Useful Notes\n",
    "\n",
    "* !!!Equations !$!$!, eqns w/ centering !$!$!$!$!; \n",
    "* !!!Markdown mode sections #, more ###, more subsections!!!\n",
    "* !!!git pull == update server with changes!!!\n",
    "* !!!git add . == updates all files and content!!!\n",
    "* !!!git commit -m '(update message)' ==stages the changes of files (prep to upload onto internet)!!!\n",
    "* !!!git push origin main == uploading changes!!!\n",
    "\n",
    "## Motivation\n",
    "* Let's start! We have two experiments, lets call them Planck and DES. Individual experiment have their own parameter determination, aka the different variables that affect the outcome of the experiment. For example, the Planck experiment measures the Cosmic Microwave Background (CMB), and the correlations between: Temperature versus Temperature, Tempertatue versus Elecftic Field, and Electric Field versis Electric Field. On the other hand, DES measures weak lensing and cosmic structure, and the correlations between:  \n",
    "\n",
    "* Let's assume we have subtracted the two posterior distributions from one another; the resulting posterior will be represented by \"samples.\" We define a Guassian Class to use as the KDE as needed in the code (which will come up multiple times throughout).\n",
    "\n",
    "## When\n",
    "!!!Describe what the gaussian class contains, what can we actually do with it!!!\n",
    "!!!Describe inputs and outputs!!!"
   ]
  },
  {
   "cell_type": "markdown",
   "id": "504b9897",
   "metadata": {},
   "source": [
    "# Kernal Density Estimation\n",
    "\n",
    "The Kernal Density Estimation, or KDE, allows one to find the \"shape\" or distrubution of a given set of points (and weights, if present). KDE is used in this case to obtain likelihood values for the samples, since we don't already have them.\n",
    "\n",
    "\n",
    "## Gaussian Class\n",
    "\n",
    "First, we must define Gaussian class, which will be used as the KDE many times throughout the code. For the time being, the dimension of the parameter space is two, but will be worked up to 5D (which is the upper limit of what the KDE can do well). \n",
    "\n",
    "The elements of this class include:\n",
    "* Covariance Matrix == represents covariance values of pair of elements in any given random vector\n",
    "* Inverse Covariance Matrix => Important for taking the determanint! (more so to help out mathematically)\n",
    "* \n",
    "\n",
    "Here, the smoothing function, K(x), is: positive-definite, smooth (continous and differentiable), \n",
    "$$K(x)=\\frac{1}{\\sqrt{2\\pi\\det{\\Sigma}}} e^{-\\frac{1}{2}(x-\\mu)^T\\Sigma^{-1}(x-\\mu)}$$\n",
    "\n",
    "\n",
    "\n",
    "\n",
    "And H is the bandwidth matrix, of the covairance matrix, and acts as a scaling\n",
    "\n",
    "And $K_H(x)$ is the smoothing kernal."
   ]
  },
  {
   "cell_type": "code",
   "execution_count": 2,
   "id": "0c57aec0",
   "metadata": {},
   "outputs": [],
   "source": [
    "d=2                  #d==dimension\n",
    "mean = np.ones(d)    \n",
    "\n",
    "#Define Gaussian Class\n",
    "class Gaussian:\n",
    "    def __init__(self, covmat=(0.1)*np.diag(v=np.ones(len(mean)), k=0)):\n",
    "        self.covmat = covmat        \n",
    "    def evaluate(self, x, mean):\n",
    "        cov = self.covmat\n",
    "        inv_cov = np.linalg.inv(cov)\n",
    "        if (np.linalg.det(2*np.pi*cov))**(-0.5) >= 0.0:\n",
    "            return((2*np.pi*(np.linalg.det(cov)))**(-0.5)*np.exp((-0.5)*(x-mean)@inv_cov@(x-mean)))\n",
    "        else:\n",
    "            print(\"Determinant of covariance matrix is not positive definite.\")"
   ]
  },
  {
   "cell_type": "markdown",
   "id": "afc64ad0",
   "metadata": {},
   "source": [
    "## Modelling the Zero-Vector using KDE\n",
    "Let's assume we have subtracted the two posterior distributions from one another; the resulting posterior will be represented by \"samples!\" We want to obtain likelihood values for samples through KDE! \n",
    "\n",
    "\n",
    "#### Overall goal is to find the level of agreeablness between Planck and DESY. \n",
    "We can do this by calculating $n_{\\sigma}$.\n",
    "\n",
    "But let's first obtain the likelihood samples through KDE! \n",
    "\n",
    "#1 First subtract the nongaussian posteriors to find the resultant posterior (better yet, use samples difference), which will be labelled as P(0), the zero vector we will model from. Here, we use \"samples\" as the resultant posterior, since this is a model! \"Samples\" is random samples drawn from an arbitrary, multivariate distrubution.\n",
    "+ The paper uses this definition as shorthand: $$P(x) \\equiv P(\\Delta \\theta)$$\n",
    "\n",
    "\n",
    "#2 P(0) is the posterior, or the probability distrubution of the sample difference. We use the Gaussian class to do the KDE. Using the sample size to be 20000 points, we will find the value of the likelihood! This is super-duper important for the rest of the code!!!\n",
    "+ This is calculating the shift $\\Delta\\theta = 0$"
   ]
  },
  {
   "cell_type": "code",
   "execution_count": 3,
   "id": "53a39de8",
   "metadata": {},
   "outputs": [
    {
     "name": "stdout",
     "output_type": "stream",
     "text": [
      "0.14143882803873944\n",
      "2\n"
     ]
    }
   ],
   "source": [
    "#Sample Points from Gaussian\n",
    "g = Gaussian()\n",
    "mean = np.ones(d)\n",
    "x=np.zeros(len(mean))\n",
    "covariance = np.diag(v=np.ones(len(mean)), k=0)\n",
    "samples = np.random.multivariate_normal(mean, covariance, size=20000)\n",
    "P0 = 0\n",
    "for m in samples:\n",
    "    P0 += (20000)**(-1.0)*g.evaluate(x,m)\n",
    "   \n",
    "#print(samples)\n",
    "print(P0)         #Important! This is what all other local pvalues will be compared to!\n",
    "print(len(mean))  #Check dimension:)"
   ]
  },
  {
   "cell_type": "markdown",
   "id": "769dcfba",
   "metadata": {},
   "source": [
    "This is the distrubution of the samples; depending on dimension, the plots are shown."
   ]
  },
  {
   "cell_type": "code",
   "execution_count": 4,
   "id": "655a64c8",
   "metadata": {},
   "outputs": [
    {
     "name": "stdout",
     "output_type": "stream",
     "text": [
      "Removed no burn in\n"
     ]
    },
    {
     "data": {
      "image/png": "[encoded data removed]",
      "text/plain": [
       "<Figure size 288x288 with 3 Axes>"
      ]
     },
     "metadata": {
      "needs_background": "light"
     },
     "output_type": "display_data"
    }
   ],
   "source": [
    "#Simulate Samples\n",
    "\n",
    "names = [\"x%s\"%i for i in range(d)]\n",
    "labels =  [\"x_%s\"%i for i in range(d)]\n",
    "\n",
    "s = getdist.mcsamples.MCSamples(samples= samples, names = names, labels=labels)\n",
    "\n",
    "plot = plots.get_subplot_plotter()\n",
    "plot.triangle_plot(s)"
   ]
  },
  {
   "cell_type": "markdown",
   "id": "985afa1a",
   "metadata": {},
   "source": [
    "## Convergence Test\n",
    "\n",
    "From the random samples generated, this is to determine that the sample size is enough to converge to a given p-value, which is shown below! Different sample lengths are tested, and it can be shown that $ P(\\theta) $ converges past $ 10^3 $ samples. Therefore, any chain with sample lengths greater than $10^3$ should be enough to accurately determine the probability."
   ]
  },
  {
   "cell_type": "code",
   "execution_count": 5,
   "id": "66f67e2e",
   "metadata": {
    "scrolled": true
   },
   "outputs": [
    {
     "name": "stdout",
     "output_type": "stream",
     "text": [
      "[0.24169636 0.         0.         0.         0.         0.\n",
      " 0.         0.         0.         0.         0.        ]\n",
      "[0.24169636 0.02703414 0.         0.         0.         0.\n",
      " 0.         0.         0.         0.         0.        ]\n",
      "[0.24169636 0.02703414 0.25561756 0.         0.         0.\n",
      " 0.         0.         0.         0.         0.        ]\n",
      "[0.24169636 0.02703414 0.25561756 0.34774103 0.         0.\n",
      " 0.         0.         0.         0.         0.        ]\n",
      "[0.24169636 0.02703414 0.25561756 0.34774103 0.23065903 0.\n",
      " 0.         0.         0.         0.         0.        ]\n",
      "[0.24169636 0.02703414 0.25561756 0.34774103 0.23065903 0.06002298\n",
      " 0.         0.         0.         0.         0.        ]\n",
      "[0.24169636 0.02703414 0.25561756 0.34774103 0.23065903 0.06002298\n",
      " 0.1458176  0.         0.         0.         0.        ]\n",
      "[0.24169636 0.02703414 0.25561756 0.34774103 0.23065903 0.06002298\n",
      " 0.1458176  0.12625304 0.         0.         0.        ]\n",
      "[0.24169636 0.02703414 0.25561756 0.34774103 0.23065903 0.06002298\n",
      " 0.1458176  0.12625304 0.14900765 0.         0.        ]\n",
      "[0.24169636 0.02703414 0.25561756 0.34774103 0.23065903 0.06002298\n",
      " 0.1458176  0.12625304 0.14900765 0.15171759 0.        ]\n",
      "[0.24169636 0.02703414 0.25561756 0.34774103 0.23065903 0.06002298\n",
      " 0.1458176  0.12625304 0.14900765 0.15171759 0.14468659]\n"
     ]
    },
    {
     "data": {
      "image/png": "[encoded data removed]",
      "text/plain": [
       "<Figure size 432x288 with 1 Axes>"
      ]
     },
     "metadata": {
      "needs_background": "light"
     },
     "output_type": "display_data"
    }
   ],
   "source": [
    "#Generate random samples to test where the convergence of the P(0) is!\n",
    "sample_length = [10, 20, 30, 40, 50, 75, 100, 1000, 10000, 15000, 20000]\n",
    "pval = np.zeros(len(sample_length))\n",
    "for i in range(len(sample_length)):\n",
    "    length = sample_length[i]\n",
    "    samples = np.random.multivariate_normal(mean, covariance, size=length)\n",
    "    P=0\n",
    "    for m in samples:\n",
    "        P += (length)**(-1.0)*g.evaluate(x,m)\n",
    "    \n",
    "    pval[i] = P\n",
    "    print(pval)\n",
    "    \n",
    "plt.title(\"Convergence Test\")\n",
    "plt.plot(sample_length, pval)\n",
    "plt.xlabel(\"Number_of_Samples\")\n",
    "plt.ylabel(\"Probability\")\n",
    "plt.xscale('log')"
   ]
  },
  {
   "cell_type": "markdown",
   "id": "782882f2",
   "metadata": {},
   "source": [
    "## KD-Trees Method\n",
    "\n",
    "### What KD-Trees is?\n",
    "The KD-Trees, or k-dimensional trees method, is used to partition the given space (in this case, the sample space is being partitioned). This is used to order the data points, and throw away points that are far from the k nearest neighbors (where $k \\in \\set{Z^+}$). In all, it allows for the organization of points in k-dimensional space.\n",
    "\n",
    "### What KD-Trees is used to do within this code?\n",
    "The KD-Trees Method is used to organize the $ P(\\theta) $ such that all of the indivdual p-values are ranked (rather indexed) greatest to least. This makes doing the KDE faster and easier, since all the p-values are well-ordered.\n",
    "\n",
    "\n",
    "### What is being done right now with KD-Trees Method?\n",
    "From the samples, the kd-trees method has been imposed on the sample space. After this, the nearest neighbor search will begin, and:\n",
    "\n",
    "#1 The tree will be queried for the k=1000 nearest neighbors,\n",
    "\n",
    "#2 The indicies of those neighbors will be found, then\n",
    "\n",
    "#3 The data points will be extracted from said indicies.\n",
    "\n",
    "The datapoints are useful to find the $P(\\Delta\\theta)$ in the next step."
   ]
  },
  {
   "cell_type": "code",
   "execution_count": 6,
   "id": "ce34f417",
   "metadata": {},
   "outputs": [],
   "source": [
    "#KD-Tree Time :O\n",
    "#From samples, find k+1 nearest neighbors with kdtree, k=1000 nearest neighbors\n",
    "kdtree = KDTree(samples)\n",
    "#Query (Ask) the kdtree for nearest neighbors!\n",
    "query = kdtree.query(x=np.zeros(d), k=1000)\n",
    "#print(query)"
   ]
  },
  {
   "cell_type": "code",
   "execution_count": 7,
   "id": "590b4bec",
   "metadata": {
    "scrolled": true
   },
   "outputs": [],
   "source": [
    "#What are the indices of the Nearest Neighbors?\n",
    "index = query[1]\n",
    "#print(index)"
   ]
  },
  {
   "cell_type": "code",
   "execution_count": 8,
   "id": "81e37828",
   "metadata": {},
   "outputs": [],
   "source": [
    "#Now that the Index of the Nearest Neighbors are known, the indices could be used to find the data points of said NN!\n",
    "data = kdtree.data[index]\n",
    "#print(data)"
   ]
  },
  {
   "cell_type": "markdown",
   "id": "4723ee5b",
   "metadata": {},
   "source": [
    "## Gaussian Around Sampled Points\n",
    "\n",
    "In the last step, the data points were extracted, but now, we need to do a Gaussian of those sampled points to find their p-value, $P(\\theta)$. The gaussian class is used once again to calculate the gaussian around the sampled points, which are the datapoints found in the last step.\n",
    "\n",
    "### Code Description\n",
    "\n",
    " #1 From \"samples,\" pick one data-point to be the \"modelled point\" and query the tree for the k=1000 nearest neighbors.\n",
    " \n",
    " #2 Get data-points of the nearest neighbors (insert Jeopardy music for how long it takes).\n",
    " \n",
    " #3 Do a Gaussian around each sampled-point, using the datapoints of the \"modelled data,\" and comparing it to the \"modelled point\"(modpoint is the point being compared to).\n",
    " \n",
    " #4 Retrieve $P(\\Delta\\theta)$, which will be an array of p-values."
   ]
  },
  {
   "cell_type": "code",
   "execution_count": 9,
   "id": "9ad66001",
   "metadata": {},
   "outputs": [
    {
     "name": "stdout",
     "output_type": "stream",
     "text": [
      "19999[2.02552208 2.87398969 1.74152565 ... 0.98208544 1.24411905 2.4093046 ]\n"
     ]
    }
   ],
   "source": [
    "#Gaussian Around Sampled Points\n",
    "\n",
    "pvalsamples = np.zeros(len(samples))  #Used to input $P_i(\\theta)$ values\n",
    "\n",
    "#Pick one data point as modelled point, compare every other point to \"modelled\" point\n",
    "for i in range(len(samples)):\n",
    "    modpoint = samples[i]\n",
    "    modquery = kdtree.query(modpoint, k=1000)\n",
    "    modindex = modquery[1]\n",
    "    moddata = kdtree.data[modindex]\n",
    "    print('\\r' +str(i),end='')\n",
    "    Pd = (1/1000)\n",
    "    for j in range(len(moddata)):\n",
    "        Pd += (1000)**(-1.0)*g.evaluate(moddata[j], modpoint)\n",
    "        \n",
    "    pvalsamples[i] = Pd #Pval of samples \n",
    "\n",
    "#print(len(data))\n",
    "#print(data)\n",
    "print(pvalsamples)"
   ]
  },
  {
   "cell_type": "markdown",
   "id": "e765a4c6",
   "metadata": {},
   "source": [
    "## Compare $P(\\Delta\\theta)$ to $P(0)$\n",
    "In order to calculate the shift, $\\hat{\\Delta}$, whose KDE estimate is:\n",
    "\n",
    "$$\\hat{\\Delta} = \\int_{P(x) > P(x_0)} P(x)dx$$.\n",
    "\n",
    "This process is called neighbor elimination, where it can be observed that the probability does not depend on the actual value of $P(x)$, but rather its relative value compared to $P(x_0)$. \n",
    "\n",
    "$$\\hat{\\Delta} = \\frac{1}{w_{tot}} \\sum_{i=1}^n w_i S(\\hat{P}(x) - \\hat{P}(x_0))$$\n",
    "\n",
    "This comes from the Monte-Carlov volume integral, which has a threshold crossing problem; since the kernal is positive, so we get rid of any $P(x) > P(x_0)$.\n"
   ]
  },
  {
   "cell_type": "code",
   "execution_count": 10,
   "id": "203a5f22",
   "metadata": {},
   "outputs": [
    {
     "name": "stdout",
     "output_type": "stream",
     "text": [
      "19757\n",
      "243\n"
     ]
    }
   ],
   "source": [
    "#Compare Values Pi to P0\n",
    "#Want to count all points that satify (Pi > P0) for integration; save other points for later (into Reject they go)!\n",
    "\n",
    "Accept = []   #Accept Pi >= P0\n",
    "Reject = []   #Reject because Pi < P0\n",
    "\n",
    "for i in range(len(pvalsamples)):\n",
    "    Pi = pvalsamples[i]\n",
    "    if (Pi >= P0):\n",
    "        #print('Yeehaw!')\n",
    "        Accept.append([i,Pi])\n",
    "    else:\n",
    "        #print('Nope lol, you tried')\n",
    "        Reject.append([i,Pi])\n",
    "\n",
    "print(len(Accept))\n",
    "print(len(Reject))\n",
    "\n",
    "#print(Accept)\n",
    "#print(Reject)  "
   ]
  },
  {
   "cell_type": "markdown",
   "id": "8dbfeffb",
   "metadata": {},
   "source": [
    "## Rejected Values\n",
    "\n"
   ]
  },
  {
   "cell_type": "code",
   "execution_count": 11,
   "id": "9cf589c4",
   "metadata": {},
   "outputs": [
    {
     "name": "stdout",
     "output_type": "stream",
     "text": [
      "243 0\n",
      "[254, 446, 541, 547, 567, 722, 781, 854, 884, 914, 975, 1019, 1098, 1285, 1319, 1522, 1662, 1663, 1959, 2049, 2121, 2389, 2475, 2556, 3092, 3370, 3380, 3448, 3487, 3617, 3628, 3632, 3706, 3757, 3760, 3846, 3872, 4041, 4093, 4145, 4166, 4339, 4409, 4560, 4573, 4622, 4766, 4813, 4939, 4975, 5014, 5077, 5078, 5090, 5141, 5357, 5398, 5425, 5497, 5535, 5625, 5643, 5873, 6042, 6049, 6086, 6178, 6189, 6239, 6261, 6329, 6379, 6506, 6812, 6859, 6881, 6907, 6922, 7009, 7213, 7225, 7458, 7587, 7595, 7869, 7954, 8020, 8060, 8067, 8110, 8151, 8154, 8200, 8207, 8244, 8320, 8515, 8529, 8545, 8741, 8898, 8991, 9225, 9347, 9351, 9378, 9426, 9470, 9489, 9508, 9533, 9670, 9783, 9827, 9952, 10040, 10115, 10126, 10152, 10339, 10357, 10382, 10423, 10505, 10530, 10574, 10653, 10847, 10978, 11032, 11063, 11146, 11561, 11716, 11786, 11939, 11961, 12019, 12090, 12091, 12111, 12164, 12176, 12369, 12421, 12603, 12694, 12795, 12911, 13047, 13120, 13149, 13186, 13261, 13286, 13299, 13394, 13454, 13526, 13760, 13934, 13941, 13953, 13985, 14051, 14074, 14152, 14157, 14199, 14242, 14316, 14436, 14491, 14542, 14602, 14680, 14712, 14772, 14866, 14938, 15028, 15077, 15088, 15355, 15496, 15510, 15618, 15690, 15721, 15759, 15784, 15835, 15872, 15876, 15890, 15945, 15962, 16211, 16226, 16264, 16276, 16431, 16669, 16724, 16792, 16852, 16901, 16959, 16971, 17215, 17256, 17352, 17400, 17430, 17439, 17505, 17508, 17675, 17811, 18007, 18024, 18072, 18364, 18450, 18456, 18561, 18761, 18784, 18900, 19058, 19060, 19081, 19176, 19215, 19266, 19363, 19370, 19390, 19394, 19429, 19557, 19684, 19978]\n"
     ]
    }
   ],
   "source": [
    "#Which Pi < P0 to accept b/c boundary point? Redemption time!\n",
    "# k==Nearest Neighbors, if nearest neighbor number is too low, won't count points that are maybe important\n",
    "\n",
    "NN= int(1000)\n",
    "\n",
    "Redemption = []\n",
    "Death = []\n",
    "\n",
    "# Reject[i] = [index,Pval]\n",
    "for i in range(len(Reject)):\n",
    "    Re = Reject[i][1] #Pval\n",
    "    if (Re*(len(samples)- NN) >= P0):\n",
    "        Redemption.append(Reject[i][0]) #append index\n",
    "    else:\n",
    "        Death.append(Re)\n",
    "        \n",
    "print(len(Redemption), len(Death))\n",
    "print(Redemption)"
   ]
  },
  {
   "cell_type": "code",
   "execution_count": 12,
   "id": "de4b3e30",
   "metadata": {},
   "outputs": [
    {
     "name": "stdout",
     "output_type": "stream",
     "text": [
      "[0.00541405 0.00649902 0.00307567 0.00405334 0.00412902 0.0035165\n",
      " 0.00307493 0.00223136 0.00698695 0.00048201 0.00678814 0.00670002\n",
      " 0.0021483  0.00376041 0.00426179 0.00512288 0.00660052 0.00070182\n",
      " 0.00393513 0.00658448 0.00632469 0.00493748 0.00068917 0.00456493\n",
      " 0.00692412 0.00645017 0.00563786 0.00096579 0.00039665 0.00264525\n",
      " 0.00538535 0.00502787 0.00588082 0.00642812 0.00053552 0.00553857\n",
      " 0.00111876 0.00343508 0.00179124 0.00324416 0.00057287 0.00509259\n",
      " 0.00379307 0.0016262  0.00341382 0.00182167 0.00340718 0.00220775\n",
      " 0.00388518 0.00463689 0.00370306 0.00633509 0.00085301 0.00422871\n",
      " 0.00444347 0.00116684 0.00677128 0.00700371 0.00613309 0.00585816\n",
      " 0.00443724 0.00234754 0.00398988 0.00215674 0.00513225 0.00291903\n",
      " 0.0051694  0.00259877 0.00465485 0.00374376 0.00050291 0.00695207\n",
      " 0.00357627 0.00638541 0.00704893 0.00084354 0.004573   0.00107273\n",
      " 0.0054543  0.00232312 0.00115511 0.00112538 0.00097803 0.00600344\n",
      " 0.00089515 0.00126368 0.00604606 0.0047329  0.00267499 0.00532397\n",
      " 0.00614689 0.00049998 0.00354192 0.00609944 0.00517042 0.00595327\n",
      " 0.00037111 0.00532275 0.00431793 0.00274741 0.00286614 0.00319962\n",
      " 0.00326148 0.00367044 0.00484542 0.00361099 0.00685518 0.00079292\n",
      " 0.00642473 0.00565593 0.00575817 0.00299344 0.00634923 0.00660561\n",
      " 0.00666271 0.00120942 0.00560827 0.0042433  0.00061421 0.00116695\n",
      " 0.00198868 0.00507529 0.00025099 0.00462338 0.00196968 0.00248048\n",
      " 0.00452627 0.00379429 0.00459531 0.00227584 0.00305597 0.00338156\n",
      " 0.00233881 0.00384375 0.0033643  0.00319688 0.00096798 0.00029558\n",
      " 0.00638326 0.0036542  0.00259242 0.00696576 0.00377063 0.00199096\n",
      " 0.00358505 0.00292937 0.00642999 0.00672002 0.00050549 0.00540969\n",
      " 0.00144729 0.0005072  0.00141363 0.00533012 0.00553704 0.00025438\n",
      " 0.0022821  0.00090243 0.00548736 0.00341245 0.0028002  0.00610616\n",
      " 0.00338124 0.0063547  0.00074401 0.00309379 0.00496851 0.00315038\n",
      " 0.00599805 0.00638734 0.00071627 0.00591755 0.00450029 0.00556626\n",
      " 0.00408471 0.00137034 0.00645246 0.00210377 0.00437927 0.00198291\n",
      " 0.00036571 0.0069905  0.00083834 0.00520656 0.00107951 0.00668456\n",
      " 0.00516511 0.00691031 0.00570665 0.00119533 0.00626367 0.00678887\n",
      " 0.00427605 0.00173002 0.00262489 0.00578812 0.00391129 0.00596549\n",
      " 0.00069812 0.00586484 0.00628734 0.00361747 0.00077032 0.00636775\n",
      " 0.00178423 0.00666398 0.00233802 0.00636693 0.0029904  0.00291715\n",
      " 0.00500483 0.00524219 0.00265459 0.00076286 0.00408084 0.00574729\n",
      " 0.00215088 0.0010978  0.00479179 0.00501255 0.00599403 0.00170672\n",
      " 0.00693589 0.00190869 0.00348587 0.00337788 0.00084134 0.00149174\n",
      " 0.00628978 0.0022537  0.00594506 0.004929   0.00568251 0.00605922\n",
      " 0.00680064 0.00559944 0.00554617 0.00650737 0.00103895 0.00355627\n",
      " 0.00623797 0.00256894 0.00212805]\n"
     ]
    }
   ],
   "source": [
    "#Redemption needs to be KDTree'd to find it's nearest nearest neighbors, but better than before\n",
    "\n",
    "pxiarray = np.zeros(len(Redemption))\n",
    "for i in range(len(Redemption)):\n",
    "    xi = samples[Redemption[i]]\n",
    "    xiquery = kdtree.query(xi, k=len(samples))\n",
    "    xiindex = xiquery[1]\n",
    "    xidata = kdtree.data[xiindex]   #Points that are NN\n",
    "    Pxi = (len(samples))**(-1.0)\n",
    "    for j in range(5*NN):\n",
    "        Pxi += (len(samples))**(-1.0)*g.evaluate(xi, xidata[j])\n",
    "\n",
    "    pxiarray[i]=Pxi\n",
    "\n",
    "print(pxiarray)"
   ]
  },
  {
   "cell_type": "code",
   "execution_count": 20,
   "id": "e1b42411",
   "metadata": {},
   "outputs": [
    {
     "ename": "TypeError",
     "evalue": "object of type 'numpy.float64' has no len()",
     "output_type": "error",
     "traceback": [
      "\u001b[0;31m---------------------------------------------------------------------------\u001b[0m",
      "\u001b[0;31mTypeError\u001b[0m                                 Traceback (most recent call last)",
      "\u001b[0;32m/tmp/ipykernel_1493255/866802389.py\u001b[0m in \u001b[0;36m<module>\u001b[0;34m\u001b[0m\n\u001b[1;32m     12\u001b[0m '''\n\u001b[1;32m     13\u001b[0m \u001b[0mxv\u001b[0m\u001b[0;34m,\u001b[0m \u001b[0myv\u001b[0m \u001b[0;34m=\u001b[0m \u001b[0mnp\u001b[0m\u001b[0;34m.\u001b[0m\u001b[0mmeshgrid\u001b[0m\u001b[0;34m(\u001b[0m\u001b[0mPxi\u001b[0m\u001b[0;34m,\u001b[0m \u001b[0mpvalsamples\u001b[0m\u001b[0;34m,\u001b[0m \u001b[0mindexing\u001b[0m\u001b[0;34m=\u001b[0m\u001b[0;34m'ij'\u001b[0m\u001b[0;34m)\u001b[0m\u001b[0;34m\u001b[0m\u001b[0;34m\u001b[0m\u001b[0m\n\u001b[0;32m---> 14\u001b[0;31m \u001b[0;32mfor\u001b[0m \u001b[0mi\u001b[0m \u001b[0;32min\u001b[0m \u001b[0mrange\u001b[0m\u001b[0;34m(\u001b[0m\u001b[0mlen\u001b[0m\u001b[0;34m(\u001b[0m\u001b[0mPxi\u001b[0m\u001b[0;34m)\u001b[0m\u001b[0;34m)\u001b[0m\u001b[0;34m:\u001b[0m\u001b[0;34m\u001b[0m\u001b[0;34m\u001b[0m\u001b[0m\n\u001b[0m\u001b[1;32m     15\u001b[0m     \u001b[0mprint\u001b[0m\u001b[0;34m(\u001b[0m\u001b[0mPxi\u001b[0m\u001b[0;34m[\u001b[0m\u001b[0mi\u001b[0m\u001b[0;34m]\u001b[0m\u001b[0;34m)\u001b[0m\u001b[0;34m\u001b[0m\u001b[0;34m\u001b[0m\u001b[0m\n\u001b[1;32m     16\u001b[0m     \u001b[0;32mfor\u001b[0m \u001b[0mj\u001b[0m \u001b[0;32min\u001b[0m \u001b[0mrange\u001b[0m\u001b[0;34m(\u001b[0m\u001b[0mpvalsamples\u001b[0m\u001b[0;34m)\u001b[0m\u001b[0;34m:\u001b[0m\u001b[0;34m\u001b[0m\u001b[0;34m\u001b[0m\u001b[0m\n",
      "\u001b[0;31mTypeError\u001b[0m: object of type 'numpy.float64' has no len()"
     ]
    }
   ],
   "source": [
    "'''\n",
    "#P(x_i)vs (P_j-mu_j)\n",
    "x = np.linspace(-5,5,20)\n",
    "y = np.linspace(-5,5,20)\n",
    "print(x)\n",
    "\n",
    "#xv, yv = np.meshgrid(x, y, indexing='ij')\n",
    "for i in range(len(x)):\n",
    "    print(x[i])\n",
    "    for j in range(len(y)):\n",
    "        print(y[j])\n",
    "'''\n",
    "xv, yv = np.meshgrid(Pxi, pvalsamples, indexing='ij')\n",
    "for i in range(len(Pxi)):\n",
    "    print(Pxi[i])\n",
    "    for j in range(pvalsamples):\n",
    "        print(pvalsamples[j])\n",
    "\n",
    "\n",
    "# pdf = \n",
    "#calculate the pdf, then do contour plots"
   ]
  },
  {
   "cell_type": "code",
   "execution_count": null,
   "id": "1f2958b2",
   "metadata": {},
   "outputs": [],
   "source": [
    "#Check same conditions as before\n",
    "Accept1 = []\n",
    "Reject1 =[]\n",
    "for i in range(len(pxiarray)):\n",
    "    pxi = pxiarray[i]\n",
    "    if (pxi >= P0):\n",
    "        Accept1.append([i,pxi])\n",
    "    else:\n",
    "        Reject1.append([i, pxi])\n",
    "\n",
    "print(len(Accept1))\n",
    "print(len(Reject1))"
   ]
  },
  {
   "cell_type": "code",
   "execution_count": null,
   "id": "5a35e680",
   "metadata": {},
   "outputs": [],
   "source": [
    "#Out on the side, who will survive? How many points were lost in the fires of rejected points lol\n",
    "\n",
    "#what comes out is the number of points that need to\n",
    "Redemption1 = []\n",
    "Death1 = []\n",
    "\n",
    "for i in range(len(Reject1)):\n",
    "    Re1 = Reject1[i][1] #Pval\n",
    "    if (Re1*(len(samples)- NN) >= P0):\n",
    "        Redemption1.append(Reject1[i][0]) #append index\n",
    "    else:\n",
    "        Death1.append(Re1)\n",
    "        \n",
    "print(len(Redemption1), len(Death1))\n",
    "print(Redemption1)"
   ]
  },
  {
   "cell_type": "code",
   "execution_count": null,
   "id": "cb7f65a7",
   "metadata": {},
   "outputs": [],
   "source": [
    "delta = len(Redemption1) #+ len(Redemption1) \n",
    "print(delta)"
   ]
  },
  {
   "cell_type": "code",
   "execution_count": null,
   "id": "242d2e7d",
   "metadata": {},
   "outputs": [],
   "source": [
    "WEE = delta/len(samples)\n",
    "print(WEE)"
   ]
  },
  {
   "cell_type": "code",
   "execution_count": null,
   "id": "1ce1c8a7",
   "metadata": {},
   "outputs": [],
   "source": [
    "Columns = [\"Dimension\",\"$\\Delta$\",\"Compared to...\"]\n",
    "\n",
    "Finals = [[1,0,0],\n",
    "         [2,0.0219,],\n",
    "         [3,0.0219,],\n",
    "         [4,0.0076,],\n",
    "         [5,0,0]\n",
    "         ]\n",
    "\n",
    "print(tabulate(Finals, headers=Columns))"
   ]
  }
 ],
 "metadata": {
  "kernelspec": {
   "display_name": "Python 3 (ipykernel)",
   "language": "python",
   "name": "python3"
  },
  "language_info": {
   "codemirror_mode": {
    "name": "ipython",
    "version": 3
   },
   "file_extension": ".py",
   "mimetype": "text/x-python",
   "name": "python",
   "nbconvert_exporter": "python",
   "pygments_lexer": "ipython3",
   "version": "3.7.7"
  }
 },
 "nbformat": 4,
 "nbformat_minor": 5
}
