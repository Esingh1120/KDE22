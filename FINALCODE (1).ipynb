{
 "cells": [
  {
   "cell_type": "code",
   "execution_count": 1,
   "metadata": {},
   "outputs": [],
   "source": [
    "#Reference\n",
    "import numpy as np\n",
    "import scipy as sp\n",
    "from scipy.spatial import KDTree\n",
    "import warnings\n",
    "%matplotlib inline\n",
    "import matplotlib.pyplot as plt\n",
    "from IPython.core.debugger import set_trace\n",
    "import math\n",
    "\n",
    "import os\n",
    "from mpl_toolkits.mplot3d import Axes3D"
   ]
  },
  {
   "cell_type": "code",
   "execution_count": null,
   "metadata": {},
   "outputs": [],
   "source": [
    "#Sampling from Guassian => Find P(0) (using KDE); The Model of 0 Vector\n",
    "#d==dimension\n",
    "d=2\n",
    "mean = np.ones(d)\n",
    "\n",
    "#Define Gaussian Class\n",
    "class Gaussian:\n",
    "    def __init__(self, covmat=(0.1)*np.diag(v=np.ones(len(mean)), k=0)):\n",
    "        self.covmat = covmat        \n",
    "    def evaluate(self, x, mean):\n",
    "        cov = self.covmat\n",
    "        inv_cov = np.linalg.inv(cov)\n",
    "        if (np.linalg.det(2*np.pi*cov))**(-0.5) >= 0.0:\n",
    "            return((2*np.pi*(np.linalg.det(cov)))**(-0.5)*np.exp((-0.5)*(x-mean)@inv_cov@(x-mean)))\n",
    "        else:\n",
    "            print(\"Determinant of covariance matrix is not positive definite.\")\n",
    "\n",
    "#Sample Points from Gaussian\n",
    "g = Gaussian()\n",
    "mean = np.ones(d)\n",
    "x=np.zeros(len(mean))\n",
    "covariance = np.diag(v=np.ones(len(mean)), k=0)\n",
    "samples = np.random.multivariate_normal(mean, covariance, size=1000000)\n",
    "P0 = 0\n",
    "for m in samples:\n",
    "    P0 += (1000000)**(-1.0)*g.evaluate(x,m)\n",
    "   \n",
    "#print(samples)\n",
    "print(P0)\n",
    "print(len(mean))  #Check dim"
   ]
  },
  {
   "cell_type": "code",
   "execution_count": null,
   "metadata": {
    "scrolled": true
   },
   "outputs": [],
   "source": [
    "#Generate Random Samples, Used as a check\n",
    "sample_length = [10, 20, 30, 40, 50, 75, 100, 1000, 10000, 100000, 1000000]\n",
    "pval = np.zeros(len(sample_length))\n",
    "for i in range(len(sample_length)):\n",
    "    length = sample_length[i]\n",
    "    samples = np.random.multivariate_normal(mean, covariance, size=length)\n",
    "    P=0\n",
    "    for m in samples:\n",
    "        P += (length)**(-1.0)*g.evaluate(x,m)\n",
    "    \n",
    "    pval[i] = P\n",
    "    print(pval)\n",
    "\n",
    "plt.plot(sample_length, pval)\n",
    "plt.xscale('log')"
   ]
  },
  {
   "cell_type": "code",
   "execution_count": null,
   "metadata": {
    "scrolled": true
   },
   "outputs": [],
   "source": [
    "#KD-Tree Time :O\n",
    "#From sample lengths, find k+1 nearest neighbors with kdtree, k=100 nearest neighbors\n",
    "kdtree = KDTree(samples)\n",
    "query = kdtree.query(x=np.zeros(d), k=1000)\n",
    "#Query KD-Tree for nearest Neighbors\n",
    "print(query)\n",
    "index = query[1]\n",
    "print(index)\n",
    "data = kdtree.data[index]\n",
    "#Get data points of the nearest neighbors\n",
    "print(data)"
   ]
  },
  {
   "cell_type": "code",
   "execution_count": null,
   "metadata": {
    "scrolled": true
   },
   "outputs": [],
   "source": [
    "#Gaussian Around Sampled Points\n",
    "\n",
    "pvalsamples = np.zeros(len(samples))\n",
    "\n",
    "#Pick one data point as modelled point, compare every other point to \"modelled\" point\n",
    "for i in range(len(samples)):\n",
    "    modpoint = samples[i]\n",
    "    modquery = kdtree.query(modpoint, k=1000)\n",
    "    modindex = modquery[1]\n",
    "    moddata = kdtree.data[modindex]\n",
    "    print('\\r' +str(i),end='')\n",
    "    Pd = (1/1000)\n",
    "    for j in range(len(moddata)):\n",
    "        Pd += (1000)**(-1.0)*g.evaluate(moddata[j], modpoint)\n",
    "        \n",
    "    pvalsamples[i] = Pd #Pval of samples \n",
    "\n",
    "#print(len(data))\n",
    "#print(data)\n",
    "\n",
    "print(pvalsamples)"
   ]
  },
  {
   "cell_type": "code",
   "execution_count": null,
   "metadata": {
    "scrolled": true
   },
   "outputs": [],
   "source": [
    "#Compare Values Pi to P0\n",
    "#Want to count all points that satify (Pi > P0) for integration; save other points for later\n",
    "\n",
    "Accept = []   #Accept Pi >= P0\n",
    "Reject = []   #Reject because Pi < P0\n",
    "\n",
    "for i in range(len(pvalsamples)):\n",
    "    Pi = pvalsamples[i]\n",
    "    if (Pi >= P0):\n",
    "        #print('Yeehaw!')\n",
    "        Accept.append([i,Pi])\n",
    "    else:\n",
    "        #print('Nope lol, you tried')\n",
    "        Reject.append([i,Pi])\n",
    "\n",
    "print(len(Accept))\n",
    "print(len(Reject))\n",
    "\n",
    "#print(Accept)\n",
    "#print(Reject)  "
   ]
  },
  {
   "cell_type": "code",
   "execution_count": null,
   "metadata": {
    "scrolled": true
   },
   "outputs": [],
   "source": [
    "#Which Pi < P0 to accept b/c boundary point? Redemption time!\n",
    "# k==Nearest Neighbors, if nearest neighbor number is too low, won't count points that are maybe important\n",
    "\n",
    "NN= int(1000)\n",
    "\n",
    "Redemption = []\n",
    "Death = []\n",
    "\n",
    "# Reject[i] = [index,Pval]\n",
    "for i in range(len(Reject)):\n",
    "    Re = Reject[i][1] #Pval\n",
    "    if (Re*(len(samples)- NN) >= P0):\n",
    "        Redemption.append(Reject[i][0]) #append index\n",
    "    else:\n",
    "        Death.append(Re)\n",
    "        \n",
    "print(len(Redemption), len(Death))\n",
    "print(Redemption)"
   ]
  },
  {
   "cell_type": "code",
   "execution_count": null,
   "metadata": {
    "scrolled": true
   },
   "outputs": [],
   "source": [
    "#Redemption needs to be KDTree'd to find it's nearest nearest neighbors, but better than before\n",
    "#What might be work is instead of adding the pval to an array, add the index of the points that pass of fail. \n",
    "#So if the 357th point fails, you can just call samples[357] to get the point again\n",
    "\n",
    "pxiarray = np.zeros(len(Redemption))\n",
    "for i in range(len(Redemption)):\n",
    "    xi = samples[Redemption[i]]\n",
    "    xiquery = kdtree.query(xi, k=len(samples))\n",
    "    xiindex = xiquery[1]\n",
    "    xidata = kdtree.data[xiindex]   #Points that are NN\n",
    "    Pxi = (len(samples))**(-1.0)\n",
    "    for j in range(5*NN):\n",
    "        Pxi += (len(samples))**(-1.0)*g.evaluate(xi, xidata[j])\n",
    "\n",
    "    pxiarray[i]=Pxi\n",
    "\n",
    "print(pxiarray)     "
   ]
  },
  {
   "cell_type": "code",
   "execution_count": null,
   "metadata": {},
   "outputs": [],
   "source": [
    "#Check same conditions as before\n",
    "Accept1 = []\n",
    "Reject1 =[]\n",
    "for i in range(len(pxiarray)):\n",
    "    pxi = pxiarray[i]\n",
    "    if (pxi >= P0):\n",
    "        Accept1.append([i,pxi])\n",
    "    else:\n",
    "        Reject1.append([i, pxi])\n",
    "\n",
    "print(len(Accept1))\n",
    "print(len(Reject1))"
   ]
  },
  {
   "cell_type": "code",
   "execution_count": null,
   "metadata": {},
   "outputs": [],
   "source": [
    "#Out on the side\n",
    "\n",
    "\n",
    "Redemption1 = []\n",
    "Death1 = []\n",
    "\n",
    "for i in range(len(Reject1)):\n",
    "    Re1 = Reject1[i][1] #Pval\n",
    "    if (Re1*(len(samples)- NN) >= P0):\n",
    "        Redemption1.append(Reject1[i][0]) #append index\n",
    "    else:\n",
    "        Death1.append(Re1)\n",
    "        \n",
    "print(len(Redemption1), len(Death1))\n",
    "print(Redemption1)"
   ]
  }
 ],
 "metadata": {
  "kernelspec": {
   "display_name": "Python 3 (ipykernel)",
   "language": "python",
   "name": "python3"
  },
  "language_info": {
   "codemirror_mode": {
    "name": "ipython",
    "version": 3
   },
   "file_extension": ".py",
   "mimetype": "text/x-python",
   "name": "python",
   "nbconvert_exporter": "python",
   "pygments_lexer": "ipython3",
   "version": "3.7.7"
  }
 },
 "nbformat": 4,
 "nbformat_minor": 4
}
