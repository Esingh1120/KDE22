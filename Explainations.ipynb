{
 "cells": [
  {
   "cell_type": "code",
   "execution_count": 1,
   "id": "97ad065c",
   "metadata": {},
   "outputs": [],
   "source": [
    "#Reference\n",
    "import numpy as np\n",
    "import scipy as sp\n",
    "from scipy.spatial import KDTree\n",
    "import warnings\n",
    "%matplotlib inline\n",
    "import matplotlib.pyplot as plt\n",
    "from IPython.core.debugger import set_trace\n",
    "import math\n",
    "\n",
    "import os\n",
    "from mpl_toolkits.mplot3d import Axes3D\n",
    "\n",
    "from tabulate import tabulate\n",
    "\n",
    "import getdist\n",
    "from getdist import plots, gaussian_mixtures, MCSamples\n",
    "\n",
    "%matplotlib inline"
   ]
  },
  {
   "cell_type": "markdown",
   "id": "789b06b6",
   "metadata": {},
   "source": [
    "# Introduction/Motivation/Useful Notes\n",
    "\n",
    "## Useful Notes\n",
    "\n",
    "* !!!Equations !$!$!, eqns w/ centering !$!$!$!$!; \n",
    "* !!!Markdown mode sections #, more ###, more subsections!!!\n",
    "* !!!git pull == update server with changes!!!\n",
    "* !!!git add . == updates all files and content!!!\n",
    "* !!!git commit -m '(update message)' ==stages the changes of files (prep to upload onto internet)!!!\n",
    "* !!!git push origin main == uploading changes!!!\n",
    "\n",
    "## Motivation\n",
    "* Let's start! We have two experiments, namely Planck and DESY. Individual experiments have their own parameter determination, aka the different variables that affect the outcome of the experiment. For example, the Planck experiment measures the Cosmic Microwave Background (CMB), and the correlations between: Temperature versus Temperature, Tempertatue versus Elecftic Field, and Electric Field versis Electric Field. On the other hand, DES measures weak lensing and cosmic structure, and the correlations between them.  \n",
    "\n",
    "* Let's assume we have subtracted the two posterior distributions from one another; the resulting posterior will be represented by \"samples.\" We define a Guassian Class to use as the KDE as needed in the code (which will come up multiple times throughout)."
   ]
  },
  {
   "cell_type": "markdown",
   "id": "fbd10ac6",
   "metadata": {},
   "source": [
    "# Kernal Density Estimation\n",
    "\n",
    "The Kernal Density Estimation, or KDE, allows one to find the \"shape\" or distrubution of a given set of points (and weights, if present). KDE is used in this case to obtain likelihood values for the samples, since we don't already have them.\n",
    "\n",
    "\n",
    "## Gaussian Class\n",
    "\n",
    "First, we must define Gaussian class, which will be used as the KDE many times throughout the code. For the time being, the dimension of the parameter space is two, but will be worked up to 5D (which is the upper limit of what the KDE can do well). \n",
    "\n",
    "The elements of this class include:\n",
    "* Covariance Matrix == represents covariance values of pair of elements in any given random vector\n",
    "* Inverse Covariance Matrix => Important for taking the determanint! (more so to help out mathematically)\n",
    "* \n",
    "\n",
    "Here, the smoothing function, K(x), is: positive-definite, smooth (continous and differentiable), \n",
    "$$K(x)=\\frac{1}{\\sqrt{2\\pi\\det{\\Sigma}}} e^{-\\frac{1}{2}(x-\\mu)^T\\Sigma^{-1}(x-\\mu)}$$\n",
    "\n",
    "\n",
    "\n",
    "\n",
    "And H is the bandwidth matrix, of the covairance matrix, and acts as a scaling\n",
    "\n",
    "And $K_H(x)$ is the smoothing kernal."
   ]
  },
  {
   "cell_type": "code",
   "execution_count": 2,
   "id": "4503d2dd",
   "metadata": {},
   "outputs": [],
   "source": [
    "d=2                  #d==dimension\n",
    "size=10000            #sample size\n",
    "mean = np.ones(d)    \n",
    "#Define Gaussian Class\n",
    "class Gaussian:\n",
    "    def __init__(self, covmat=(0.1)*np.diag(v=np.ones(len(mean)), k=0)):\n",
    "        self.covmat = covmat        \n",
    "    def evaluate(self, x, mean):\n",
    "        cov = self.covmat\n",
    "        inv_cov = np.linalg.inv(cov)\n",
    "        if (np.linalg.det(2*np.pi*cov))**(-0.5) >= 0.0:\n",
    "            return((2*np.pi*(np.linalg.det(cov)))**(-0.5)*np.exp((-0.5)*(x-mean)@inv_cov@(x-mean)))\n",
    "        else:\n",
    "            print(\"Determinant of covariance matrix is not positive definite.\")"
   ]
  },
  {
   "cell_type": "markdown",
   "id": "27c45afa",
   "metadata": {},
   "source": [
    "## Modelling the Zero-Vector using KDE\n",
    "Let's assume we have subtracted the two posterior distributions from one another; the resulting posterior will be represented by \"samples!\" We want to obtain likelihood values for samples through KDE! \n",
    "\n",
    "\n",
    "#### Overall goal is to find the level of agreeablness between Planck and DESY. \n",
    "We can do this by calculating $n_{\\sigma}$.\n",
    "\n",
    "But let's first obtain the likelihood samples through KDE! \n",
    "\n",
    "#1 First subtract the nongaussian posteriors to find the resultant posterior (better yet, use samples difference), which will be labelled as P(0), the zero vector we will model from. Here, we use \"samples\" as the resultant posterior, since this is a model! \"Samples\" is random samples drawn from an arbitrary, multivariate distrubution.\n",
    "+ The paper uses this definition as shorthand: $$P(x) \\equiv P(\\Delta \\theta)$$\n",
    "\n",
    "\n",
    "#2 P(0) is the posterior, or the probability distrubution of the sample difference. We use the Gaussian class to do the KDE. Using the sample size to be 20000 points, we will find the value of the likelihood! This is super-duper important for the rest of the code!!!\n",
    "+ This is calculating the shift $\\Delta\\theta = 0$"
   ]
  },
  {
   "cell_type": "code",
   "execution_count": 3,
   "id": "1fb2817e",
   "metadata": {},
   "outputs": [
    {
     "name": "stdout",
     "output_type": "stream",
     "text": [
      "0.14998115426507927\n",
      "2\n"
     ]
    }
   ],
   "source": [
    "#Sample Points from Gaussian\n",
    "g = Gaussian()\n",
    "mean = np.ones(d)\n",
    "x=np.zeros(len(mean))\n",
    "covariance = np.diag(v=np.ones(len(mean)), k=0)\n",
    "samples = np.random.multivariate_normal(mean, covariance, size=size)\n",
    "P0 = 0\n",
    "for m in samples:\n",
    "    P0 += (size)**(-1.0)*g.evaluate(x,m)\n",
    "   \n",
    "#print(samples)\n",
    "print(P0)         #Important! This is what all other local pvalues will be compared to!\n",
    "print(len(mean))  #Check dimension:)"
   ]
  },
  {
   "cell_type": "markdown",
   "id": "3ed3c8ca",
   "metadata": {},
   "source": [
    "This is the distrubution of the samples(parameter difference); depending on dimension, the plots are shown."
   ]
  },
  {
   "cell_type": "code",
   "execution_count": 4,
   "id": "10def398",
   "metadata": {},
   "outputs": [
    {
     "name": "stdout",
     "output_type": "stream",
     "text": [
      "Removed no burn in\n"
     ]
    },
    {
     "data": {
      "image/png": "[encoded data removed]",
      "text/plain": [
       "<Figure size 288x288 with 3 Axes>"
      ]
     },
     "metadata": {
      "needs_background": "light"
     },
     "output_type": "display_data"
    }
   ],
   "source": [
    "#Simulate Samples\n",
    "\n",
    "names = [\"x%s\"%i for i in range(d)]\n",
    "labels =  [\"x_%s\"%i for i in range(d)]\n",
    "\n",
    "s = getdist.mcsamples.MCSamples(samples= samples, names = names, labels=labels)\n",
    "\n",
    "plot = plots.get_subplot_plotter()\n",
    "plot.triangle_plot(s)"
   ]
  },
  {
   "cell_type": "markdown",
   "id": "e70b694c",
   "metadata": {},
   "source": [
    "## Convergence Test\n",
    "\n",
    "From the random samples generated, this is to determine that the sample size is enough to converge to a given p-value, which is shown below! Different sample lengths are tested, and it can be shown that $ P(\\theta) $ converges past $ 10^3 $ samples. Therefore, any chain with sample lengths greater than $10^3$ should be enough to accurately determine the probability."
   ]
  },
  {
   "cell_type": "code",
   "execution_count": 5,
   "id": "6f74625b",
   "metadata": {
    "scrolled": true
   },
   "outputs": [
    {
     "name": "stdout",
     "output_type": "stream",
     "text": [
      "[0.05663161 0.         0.         0.         0.         0.\n",
      " 0.         0.         0.        ]\n",
      "[0.05663161 0.00558965 0.         0.         0.         0.\n",
      " 0.         0.         0.        ]\n",
      "[0.05663161 0.00558965 0.12016855 0.         0.         0.\n",
      " 0.         0.         0.        ]\n",
      "[0.05663161 0.00558965 0.12016855 0.1526406  0.         0.\n",
      " 0.         0.         0.        ]\n",
      "[0.05663161 0.00558965 0.12016855 0.1526406  0.3009239  0.\n",
      " 0.         0.         0.        ]\n",
      "[0.05663161 0.00558965 0.12016855 0.1526406  0.3009239  0.09906861\n",
      " 0.         0.         0.        ]\n",
      "[0.05663161 0.00558965 0.12016855 0.1526406  0.3009239  0.09906861\n",
      " 0.07107531 0.         0.        ]\n",
      "[0.05663161 0.00558965 0.12016855 0.1526406  0.3009239  0.09906861\n",
      " 0.07107531 0.14874267 0.        ]\n",
      "[0.05663161 0.00558965 0.12016855 0.1526406  0.3009239  0.09906861\n",
      " 0.07107531 0.14874267 0.13403934]\n"
     ]
    },
    {
     "data": {
      "image/png": "[encoded data removed]",
      "text/plain": [
       "<Figure size 432x288 with 1 Axes>"
      ]
     },
     "metadata": {
      "needs_background": "light"
     },
     "output_type": "display_data"
    }
   ],
   "source": [
    "#Generate random samples to test where the convergence of the P(0) is!\n",
    "sample_length = [10, 20, 30, 40, 50, 75, 100, 1000, 5000] #,10000, 15000, 20000]\n",
    "pval = np.zeros(len(sample_length))\n",
    "for i in range(len(sample_length)):\n",
    "    length = sample_length[i]\n",
    "    samples = np.random.multivariate_normal(mean, covariance, size=length)\n",
    "    P=0\n",
    "    for m in samples:\n",
    "        P += (length)**(-1.0)*g.evaluate(x,m)\n",
    "    \n",
    "    pval[i] = P\n",
    "    print(pval)\n",
    "    \n",
    "plt.title(\"Convergence Test\")\n",
    "plt.plot(sample_length, pval)\n",
    "plt.xlabel(\"Number_of_Samples\")\n",
    "plt.ylabel(\"Probability\")\n",
    "plt.xscale('log')"
   ]
  },
  {
   "cell_type": "markdown",
   "id": "8349480e",
   "metadata": {},
   "source": [
    "## KD-Trees Method\n",
    "\n",
    "### What KD-Trees is?\n",
    "The KD-Trees, or k-dimensional trees method, is used to partition the given space (in this case, the sample space is being partitioned). This is used to order the data points, and throw away points that are far from the k nearest neighbors (where $k \\in \\set{Z^+}$). In all, it allows for the organization of points in k-dimensional space.\n",
    "\n",
    "### What KD-Trees is used to do within this code?\n",
    "The KD-Trees Method is used to organize the $ P(\\theta) $ such that all of the indivdual p-values are ranked (rather indexed) greatest to least. This makes doing the KDE faster and easier, since all the p-values are well-ordered.\n",
    "\n",
    "\n",
    "### What is being done right now with KD-Trees Method?\n",
    "From the samples, the kd-trees method has been imposed on the sample space. After this, the nearest neighbor search will begin, and:\n",
    "\n",
    "#1 The tree will be queried for the k=1000 nearest neighbors,\n",
    "\n",
    "#2 The indicies of those neighbors will be found, then\n",
    "\n",
    "#3 The data points will be extracted from said indicies.\n",
    "\n",
    "The datapoints are useful to find the $P(\\Delta\\theta)$ in the next step."
   ]
  },
  {
   "cell_type": "code",
   "execution_count": 6,
   "id": "55d9a100",
   "metadata": {},
   "outputs": [],
   "source": [
    "#KD-Tree Time :O\n",
    "#From samples, find k+1 nearest neighbors with kdtree, k=1000 nearest neighbors\n",
    "kdtree = KDTree(samples)\n",
    "#Query (Ask) the kdtree for nearest neighbors!\n",
    "query = kdtree.query(x=np.zeros(d), k=1000)\n",
    "#print(query)"
   ]
  },
  {
   "cell_type": "code",
   "execution_count": 7,
   "id": "7d946bdf",
   "metadata": {
    "scrolled": true
   },
   "outputs": [],
   "source": [
    "#What are the indices of the Nearest Neighbors?\n",
    "index = query[1]\n",
    "#print(index)"
   ]
  },
  {
   "cell_type": "code",
   "execution_count": 8,
   "id": "7f7a315f",
   "metadata": {},
   "outputs": [
    {
     "name": "stdout",
     "output_type": "stream",
     "text": [
      "<class 'numpy.ndarray'> (1000, 2)\n"
     ]
    }
   ],
   "source": [
    "#Now that the Index of the Nearest Neighbors are known, the indices could be used to find the data points of said NN!\n",
    "data = kdtree.data[index]\n",
    "#print(data)\n",
    "print(type(data), data.shape)"
   ]
  },
  {
   "cell_type": "code",
   "execution_count": 9,
   "id": "101efb57",
   "metadata": {},
   "outputs": [
    {
     "data": {
      "image/png": "[encoded data removed]",
      "text/plain": [
       "<Figure size 432x288 with 1 Axes>"
      ]
     },
     "metadata": {
      "needs_background": "light"
     },
     "output_type": "display_data"
    }
   ],
   "source": [
    "#Scatter Plot of the data\n",
    "fig, bx= plt.subplots()\n",
    "bx.scatter(data[:,0],data[:,1])\n",
    "plt.title('Scatter Plot of Nearest Neighbors')\n",
    "plt.show()"
   ]
  },
  {
   "cell_type": "markdown",
   "id": "abc49f71",
   "metadata": {},
   "source": [
    "## Gaussian Around Sampled Points\n",
    "\n",
    "In the last step, the data points were extracted, but now, we need to do a Gaussian of those sampled points to find their p-value, $P(\\theta)$. The gaussian class is used once again to calculate the gaussian around the sampled points, which are the datapoints found in the last step.\n",
    "\n",
    "### Code Description\n",
    "\n",
    " #1 From \"samples,\" pick one data-point to be the \"modelled point\" and query the tree for the k=1000 nearest neighbors.\n",
    " \n",
    " #2 Get data-points of the nearest neighbors (insert Jeopardy music for how long it takes).\n",
    " \n",
    " #3 Do a Gaussian around each sampled-point, using the datapoints of the \"modelled data,\" and comparing it to the \"modelled point\"(modpoint is the point being compared to).\n",
    " \n",
    " #4 Retrieve $P(\\Delta\\theta)$, which will be an array of p-values."
   ]
  },
  {
   "cell_type": "code",
   "execution_count": 10,
   "id": "34cba2cc",
   "metadata": {},
   "outputs": [
    {
     "name": "stdout",
     "output_type": "stream",
     "text": [
      "4999[1.04741977 0.42910794 1.44975387 ... 1.33320511 0.12048156 0.20171857]\n"
     ]
    }
   ],
   "source": [
    "#Gaussian Around Sampled Points\n",
    "\n",
    "pvalsamples = np.zeros(len(samples))  #Used to input $P_i(\\theta)$ values\n",
    "\n",
    "#Pick one data point as modelled point, compare every other point to \"modelled\" point\n",
    "for i in range(len(samples)):\n",
    "    modpoint = samples[i]\n",
    "    modquery = kdtree.query(modpoint, k=1000)\n",
    "    modindex = modquery[1]\n",
    "    moddata = kdtree.data[modindex]\n",
    "    print('\\r' +str(i),end='')\n",
    "    Pd = (1/1000)\n",
    "    for j in range(len(moddata)):\n",
    "        Pd += (1000)**(-1.0)*g.evaluate(moddata[j], modpoint)\n",
    "        \n",
    "    pvalsamples[i] = Pd #Pval of samples \n",
    "\n",
    "\n",
    "print(pvalsamples)"
   ]
  },
  {
   "cell_type": "code",
   "execution_count": 11,
   "id": "bf9b7e3c",
   "metadata": {
    "scrolled": false
   },
   "outputs": [
    {
     "name": "stdout",
     "output_type": "stream",
     "text": [
      "Removed no burn in\n",
      "Removed no burn in\n"
     ]
    },
    {
     "data": {
      "image/png": "[encoded data removed]",
      "text/plain": [
       "<Figure size 288x288 with 3 Axes>"
      ]
     },
     "metadata": {
      "needs_background": "light"
     },
     "output_type": "display_data"
    },
    {
     "data": {
      "image/png": "[encoded data removed]",
      "text/plain": [
       "<Figure size 288x288 with 3 Axes>"
      ]
     },
     "metadata": {
      "needs_background": "light"
     },
     "output_type": "display_data"
    },
    {
     "data": {
      "image/png": "[encoded data removed]",
      "text/plain": [
       "<Figure size 288x288 with 3 Axes>"
      ]
     },
     "metadata": {
      "needs_background": "light"
     },
     "output_type": "display_data"
    }
   ],
   "source": [
    "#Triangle Plots of P(0) and P(\\Delta\\Theta) individually to examine how they look like in each dimension\n",
    "\n",
    "samples_MC = samples.copy()\n",
    "pvalsamples_MC = pvalsamples.copy()\n",
    "\n",
    "samples_MC, pvalsamples_MC = gaussian_mixtures.randomTestMCSamples(ndim=d, nMCSamples=2)\n",
    "\n",
    "plot.triangle_plot([s], filled=True, legend_labels = ['P(0)'])\n",
    "\n",
    "plot.triangle_plot([pvalsamples_MC], filled=True, legend_labels = ['P(\\Delta \\Theta)'])\n",
    "\n",
    "\n",
    "#Plot how the P(0) compares with the P(\\Delta\\Theta)\n",
    "plot.triangle_plot([samples_MC, pvalsamples_MC], filled=True, legend_labels = ['P(0)', 'P(\\Delta \\Theta)'])"
   ]
  },
  {
   "cell_type": "markdown",
   "id": "03c11ae9",
   "metadata": {},
   "source": [
    "## Compare $P(\\Delta\\theta)$ to $P(0)$\n",
    "In order to calculate the shift, $\\hat{\\Delta}$, whose KDE estimate is:\n",
    "\n",
    "$$\\hat{\\Delta} = \\int_{P(x) > P(x_0)} P(x)dx$$.\n",
    "\n",
    "This process is called neighbor elimination, where it can be observed that the probability does not depend on the actual value of $P(x)$, but rather its relative value compared to $P(x_0)$. \n",
    "\n",
    "$$\\hat{\\Delta} = \\frac{1}{w_{tot}} \\sum_{i=1}^n w_i S(\\hat{P}(x) - \\hat{P}(x_0))$$\n",
    "\n",
    "This comes from the Monte-Carlo volume integral, which has a threshold crossing problem; since the kernal is positive, so we get rid of any $P(x) > P(x_0)$.\n"
   ]
  },
  {
   "cell_type": "code",
   "execution_count": 12,
   "id": "3551f54d",
   "metadata": {},
   "outputs": [
    {
     "name": "stdout",
     "output_type": "stream",
     "text": [
      "4714\n",
      "286\n"
     ]
    }
   ],
   "source": [
    "#Compare Values Pi to P0\n",
    "#Want to count all points that satify (Pi > P0) for integration; save other points for later (into Reject they go)!\n",
    "\n",
    "Accept = []   #Accept Pi >= P0\n",
    "Reject = []   #Reject because Pi < P0\n",
    "\n",
    "for i in range(len(pvalsamples)):\n",
    "    Pi = pvalsamples[i]\n",
    "    if (Pi >= P0):\n",
    "        #print('Yeehaw!')\n",
    "        Accept.append([i,Pi])\n",
    "    else:\n",
    "        #print('Nope lol, you tried')\n",
    "        Reject.append([i,Pi])\n",
    "\n",
    "print(len(Accept))\n",
    "print(len(Reject))\n",
    "\n",
    "#print(Accept)\n",
    "#print(Reject)  "
   ]
  },
  {
   "cell_type": "markdown",
   "id": "0ba974a5",
   "metadata": {},
   "source": [
    "## Rejected Values\n",
    "\n"
   ]
  },
  {
   "cell_type": "code",
   "execution_count": 13,
   "id": "1ad5c79f",
   "metadata": {},
   "outputs": [
    {
     "name": "stdout",
     "output_type": "stream",
     "text": [
      "286 0\n",
      "[11, 12, 29, 59, 64, 142, 143, 158, 159, 190, 200, 217, 224, 250, 271, 287, 335, 349, 362, 370, 374, 388, 456, 461, 490, 497, 513, 519, 521, 552, 566, 571, 598, 609, 614, 616, 626, 686, 704, 751, 752, 792, 874, 885, 888, 905, 925, 933, 943, 950, 978, 994, 1061, 1089, 1093, 1105, 1122, 1147, 1149, 1150, 1167, 1180, 1237, 1245, 1252, 1316, 1360, 1429, 1432, 1445, 1478, 1523, 1529, 1544, 1550, 1572, 1573, 1605, 1607, 1614, 1627, 1655, 1656, 1674, 1680, 1690, 1710, 1777, 1780, 1844, 1845, 1864, 1875, 1911, 1934, 1947, 1948, 1949, 1952, 1969, 1989, 1990, 2032, 2049, 2057, 2061, 2110, 2180, 2184, 2195, 2196, 2198, 2233, 2259, 2293, 2334, 2364, 2401, 2428, 2429, 2437, 2441, 2444, 2452, 2460, 2461, 2497, 2504, 2511, 2520, 2557, 2558, 2560, 2566, 2581, 2582, 2584, 2599, 2619, 2623, 2628, 2634, 2650, 2653, 2662, 2667, 2675, 2728, 2749, 2752, 2770, 2790, 2821, 2823, 2836, 2848, 2852, 2867, 2871, 2885, 2893, 2900, 2905, 2958, 2963, 2966, 2980, 2983, 2993, 3017, 3035, 3037, 3044, 3070, 3090, 3097, 3113, 3115, 3119, 3142, 3159, 3197, 3199, 3231, 3237, 3257, 3259, 3260, 3282, 3293, 3297, 3360, 3363, 3371, 3424, 3449, 3452, 3506, 3507, 3509, 3522, 3539, 3562, 3597, 3615, 3629, 3635, 3649, 3679, 3681, 3703, 3706, 3723, 3731, 3755, 3776, 3779, 3798, 3819, 3836, 3843, 3854, 3870, 3908, 3926, 3927, 3940, 3946, 3970, 3976, 3995, 4011, 4043, 4056, 4095, 4109, 4172, 4196, 4202, 4211, 4245, 4290, 4379, 4383, 4398, 4410, 4415, 4427, 4443, 4463, 4470, 4483, 4494, 4520, 4521, 4524, 4542, 4571, 4583, 4612, 4616, 4626, 4630, 4640, 4641, 4656, 4663, 4665, 4668, 4679, 4716, 4744, 4748, 4768, 4823, 4830, 4851, 4856, 4922, 4940, 4958, 4969, 4975, 4982, 4991, 4998]\n"
     ]
    }
   ],
   "source": [
    "#Which Pi < P0 to accept b/c boundary point? Redemption time!\n",
    "# k==Nearest Neighbors, if nearest neighbor number is too low, won't count points that are maybe important\n",
    "\n",
    "NN= int(1000)\n",
    "\n",
    "Redemption = []\n",
    "Death = []\n",
    "\n",
    "# Reject[i] = [index,Pval]\n",
    "for i in range(len(Reject)):\n",
    "    Re = Reject[i][1] #Pval\n",
    "    if (Re*(len(samples)- NN) >= P0):\n",
    "        Redemption.append(Reject[i][0]) #append index\n",
    "    else:\n",
    "        Death.append(Re)\n",
    "        \n",
    "print(len(Redemption), len(Death))\n",
    "print(Redemption)"
   ]
  },
  {
   "cell_type": "code",
   "execution_count": 14,
   "id": "3e28cd4c",
   "metadata": {},
   "outputs": [
    {
     "name": "stdout",
     "output_type": "stream",
     "text": [
      "[0.0090765  0.00101526 0.01130589 0.02693477 0.00726127 0.01838123\n",
      " 0.00511288 0.01605558 0.02335389 0.01050148 0.01181305 0.01216744\n",
      " 0.02016632 0.02997801 0.00514207 0.0126489  0.00619202 0.02712884\n",
      " 0.02191873 0.01622166 0.01627052 0.01052533 0.00385372 0.02707185\n",
      " 0.00999159 0.02690328 0.00335827 0.02893961 0.02356738 0.01022774\n",
      " 0.00672097 0.02873293 0.02783437 0.01891709 0.01252819 0.00373348\n",
      " 0.01665236 0.02628617 0.01177366 0.01151716 0.02838998 0.02738013\n",
      " 0.02027471 0.02635744 0.0293673  0.00693744 0.02479484 0.01950098\n",
      " 0.0099479  0.01554301 0.02072062 0.00166789 0.02291087 0.02781809\n",
      " 0.01093541 0.0285489  0.02371822 0.01788844 0.01435399 0.01262364\n",
      " 0.01746054 0.00537081 0.02572484 0.00947801 0.01867107 0.02096231\n",
      " 0.02884612 0.00587973 0.01620474 0.01033012 0.01115921 0.01469778\n",
      " 0.00147287 0.00842509 0.00272685 0.02753357 0.00239225 0.0248481\n",
      " 0.02500059 0.01099439 0.02608372 0.00891665 0.01549462 0.02668952\n",
      " 0.02439323 0.0081888  0.01874087 0.00111148 0.02057576 0.02919543\n",
      " 0.02230541 0.01816043 0.02442209 0.02044742 0.00890454 0.02806117\n",
      " 0.01960313 0.02575116 0.02251337 0.0229827  0.02355732 0.0016518\n",
      " 0.01136955 0.0030829  0.01661751 0.01537587 0.00432428 0.01453161\n",
      " 0.02475483 0.01911623 0.00760059 0.02480526 0.01184056 0.00742113\n",
      " 0.02306596 0.00722865 0.00830129 0.00990268 0.02435126 0.02559419\n",
      " 0.02714581 0.02108312 0.02732134 0.0046608  0.00915826 0.00543235\n",
      " 0.02661273 0.02791284 0.02659697 0.016134   0.00467355 0.02901649\n",
      " 0.00779737 0.00368869 0.00569513 0.02987275 0.00663878 0.00556711\n",
      " 0.0040106  0.00857752 0.01162047 0.01156629 0.01086814 0.00971761\n",
      " 0.02919424 0.02222636 0.0085882  0.02590156 0.00974197 0.01612387\n",
      " 0.0188672  0.02548355 0.01666938 0.01689428 0.00538522 0.02459943\n",
      " 0.00859097 0.01595694 0.02175104 0.01658438 0.00657902 0.02107342\n",
      " 0.02252431 0.00438695 0.00548857 0.0299057  0.00447047 0.00818116\n",
      " 0.00891915 0.00442367 0.0248347  0.02357126 0.00485755 0.02550703\n",
      " 0.02565741 0.02184393 0.01139506 0.01358077 0.01702823 0.00906381\n",
      " 0.01716917 0.02251083 0.01421451 0.01201036 0.00132782 0.01819403\n",
      " 0.00660295 0.0131895  0.02954313 0.00479998 0.01526045 0.00689606\n",
      " 0.00858615 0.02228061 0.02014659 0.00620532 0.00534565 0.0265805\n",
      " 0.01732013 0.00735479 0.01409465 0.02601022 0.021718   0.00155069\n",
      " 0.02949394 0.00539716 0.0036496  0.02404796 0.00724557 0.00712865\n",
      " 0.01621103 0.00981214 0.02033503 0.02934148 0.02488067 0.0018496\n",
      " 0.02405038 0.00789358 0.0033862  0.00866253 0.02908564 0.01714186\n",
      " 0.02729483 0.01799237 0.01853891 0.01765523 0.02963241 0.02622792\n",
      " 0.01313239 0.02056843 0.00424863 0.02891343 0.00176492 0.00919589\n",
      " 0.01535769 0.00674915 0.01501326 0.00579479 0.01800871 0.01932143\n",
      " 0.01160584 0.00099805 0.02558951 0.01574904 0.00597714 0.0106993\n",
      " 0.00427025 0.02400079 0.00614087 0.02585458 0.02191813 0.02457108\n",
      " 0.01982783 0.00473928 0.0095747  0.00708647 0.02511287 0.0073437\n",
      " 0.01553038 0.0105054  0.00785625 0.0084031  0.01833512 0.01507834\n",
      " 0.01584871 0.02365246 0.02872815 0.00287943 0.02660684 0.01851759\n",
      " 0.00541309 0.00192506 0.02846433 0.02415486 0.02867789 0.01759428\n",
      " 0.01891716 0.0156887  0.02149382 0.00699251 0.00684659 0.00881182\n",
      " 0.02779337 0.02110724 0.00697017 0.02409632]\n"
     ]
    }
   ],
   "source": [
    "#Redemption needs to be KDTree'd to find it's nearest nearest neighbors, but better than before\n",
    "\n",
    "pxiarray = np.zeros(len(Redemption))\n",
    "for i in range(len(Redemption)):\n",
    "    xi = samples[Redemption[i]]\n",
    "    xiquery = kdtree.query(xi, k=len(samples))\n",
    "    xiindex = xiquery[1]\n",
    "    xidata = kdtree.data[xiindex]   #Points that are NN\n",
    "    Pxi = (len(samples))**(-1.0)\n",
    "    for j in range(5*NN):\n",
    "        Pxi += (len(samples))**(-1.0)*g.evaluate(xi, xidata[j])\n",
    "\n",
    "    pxiarray[i]=Pxi\n",
    "\n",
    "print(pxiarray)"
   ]
  },
  {
   "cell_type": "raw",
   "id": "86513c63",
   "metadata": {},
   "source": [
    "'''\n",
    "#P(x_i)vs (P_j-mu_j)\n",
    "x = np.linspace(-5,5,20)\n",
    "y = np.linspace(-5,5,20)\n",
    "print(x)\n",
    "\n",
    "#xv, yv = np.meshgrid(x, y, indexing='ij')\n",
    "for i in range(len(x)):\n",
    "    print(x[i])\n",
    "    for j in range(len(y)):\n",
    "        print(y[j])\n",
    "'''\n",
    "'''#Simulate Samples\n",
    "\n",
    "names = [\"x%s\"%i for i in range(d)]\n",
    "labels =  [\"x_%s\"%i for i in range(d)]\n",
    "\n",
    "s = getdist.mcsamples.MCSamples(samples= samples, names = names, labels=labels)\n",
    "\n",
    "plot = plots.get_subplot_plotter()\n",
    "plot.triangle_plot(s)'''\n",
    "'''pxi=0\n",
    "for i in range(len(pxiarray)):\n",
    "    pxi += (len(pxiarray))*(-1.0)*g.evaluate(pxiarray,xidata[i])\n",
    "\n",
    "#xv, yv = np.meshgrid((Pxi-, pvalsamples, )\n",
    "\n",
    "\n",
    "# pdf = \n",
    "#calculate the pdf, then do contour plots\n",
    "\n",
    "\n",
    "\n",
    "X, Y = np.meshgrid(np.linspace())'''"
   ]
  },
  {
   "cell_type": "code",
   "execution_count": 15,
   "id": "ad2a6e59",
   "metadata": {},
   "outputs": [
    {
     "name": "stdout",
     "output_type": "stream",
     "text": [
      "0\n",
      "286\n"
     ]
    }
   ],
   "source": [
    "#Check same conditions as before\n",
    "Accept1 = []\n",
    "Reject1 =[]\n",
    "for i in range(len(pxiarray)):\n",
    "    pxi = pxiarray[i]\n",
    "    if (pxi >= P0):\n",
    "        Accept1.append([i,pxi])\n",
    "    else:\n",
    "        Reject1.append([i, pxi])\n",
    "\n",
    "print(len(Accept1))\n",
    "print(len(Reject1))"
   ]
  },
  {
   "cell_type": "code",
   "execution_count": 16,
   "id": "434ce645",
   "metadata": {},
   "outputs": [
    {
     "name": "stdout",
     "output_type": "stream",
     "text": [
      "286 0\n",
      "[0, 1, 2, 3, 4, 5, 6, 7, 8, 9, 10, 11, 12, 13, 14, 15, 16, 17, 18, 19, 20, 21, 22, 23, 24, 25, 26, 27, 28, 29, 30, 31, 32, 33, 34, 35, 36, 37, 38, 39, 40, 41, 42, 43, 44, 45, 46, 47, 48, 49, 50, 51, 52, 53, 54, 55, 56, 57, 58, 59, 60, 61, 62, 63, 64, 65, 66, 67, 68, 69, 70, 71, 72, 73, 74, 75, 76, 77, 78, 79, 80, 81, 82, 83, 84, 85, 86, 87, 88, 89, 90, 91, 92, 93, 94, 95, 96, 97, 98, 99, 100, 101, 102, 103, 104, 105, 106, 107, 108, 109, 110, 111, 112, 113, 114, 115, 116, 117, 118, 119, 120, 121, 122, 123, 124, 125, 126, 127, 128, 129, 130, 131, 132, 133, 134, 135, 136, 137, 138, 139, 140, 141, 142, 143, 144, 145, 146, 147, 148, 149, 150, 151, 152, 153, 154, 155, 156, 157, 158, 159, 160, 161, 162, 163, 164, 165, 166, 167, 168, 169, 170, 171, 172, 173, 174, 175, 176, 177, 178, 179, 180, 181, 182, 183, 184, 185, 186, 187, 188, 189, 190, 191, 192, 193, 194, 195, 196, 197, 198, 199, 200, 201, 202, 203, 204, 205, 206, 207, 208, 209, 210, 211, 212, 213, 214, 215, 216, 217, 218, 219, 220, 221, 222, 223, 224, 225, 226, 227, 228, 229, 230, 231, 232, 233, 234, 235, 236, 237, 238, 239, 240, 241, 242, 243, 244, 245, 246, 247, 248, 249, 250, 251, 252, 253, 254, 255, 256, 257, 258, 259, 260, 261, 262, 263, 264, 265, 266, 267, 268, 269, 270, 271, 272, 273, 274, 275, 276, 277, 278, 279, 280, 281, 282, 283, 284, 285]\n"
     ]
    }
   ],
   "source": [
    "#Out on the side, who will survive? How many points were lost in the fires of rejected points lol\n",
    "\n",
    "#what comes out is the number of points that need to\n",
    "Redemption1 = []\n",
    "Death1 = []\n",
    "\n",
    "for i in range(len(Reject1)):\n",
    "    Re1 = Reject1[i][1] #Pval\n",
    "    if (Re1*(len(samples)- NN) >= P0):\n",
    "        Redemption1.append(Reject1[i][0]) #append index\n",
    "    else:\n",
    "        Death1.append(Re1)\n",
    "        \n",
    "print(len(Redemption1), len(Death1))\n",
    "print(Redemption1)"
   ]
  },
  {
   "cell_type": "code",
   "execution_count": 17,
   "id": "84277569",
   "metadata": {},
   "outputs": [
    {
     "name": "stdout",
     "output_type": "stream",
     "text": [
      "286\n"
     ]
    }
   ],
   "source": [
    "delta = len(Redemption1) #+ len(Redemption1) \n",
    "print(delta)"
   ]
  },
  {
   "cell_type": "code",
   "execution_count": 18,
   "id": "549bbb19",
   "metadata": {},
   "outputs": [
    {
     "name": "stdout",
     "output_type": "stream",
     "text": [
      "0.0572\n"
     ]
    }
   ],
   "source": [
    "WEE = delta/len(samples)\n",
    "print(WEE)"
   ]
  },
  {
   "cell_type": "raw",
   "id": "3fa76042",
   "metadata": {},
   "source": [
    "Columns = [\"Dimension\",\"$\\Delta$\",\"Compared to...\"]\n",
    "\n",
    "Finals = [[1,0,0],\n",
    "         [2,0.0219,],\n",
    "         [3,0.0219,],\n",
    "         [4,0.0076,],\n",
    "         [5,0,0]\n",
    "         ]\n",
    "\n",
    "print(tabulate(Finals, headers=Columns))"
   ]
  }
 ],
 "metadata": {
  "kernelspec": {
   "display_name": "Python 3 (ipykernel)",
   "language": "python",
   "name": "python3"
  },
  "language_info": {
   "codemirror_mode": {
    "name": "ipython",
    "version": 3
   },
   "file_extension": ".py",
   "mimetype": "text/x-python",
   "name": "python",
   "nbconvert_exporter": "python",
   "pygments_lexer": "ipython3",
   "version": "3.7.7"
  }
 },
 "nbformat": 4,
 "nbformat_minor": 5
}
